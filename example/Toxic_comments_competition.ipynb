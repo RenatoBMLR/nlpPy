{
 "cells": [
  {
   "cell_type": "code",
   "execution_count": 52,
   "metadata": {},
   "outputs": [],
   "source": [
    "import sys\n",
    "sys.path.append(\"../src/\")\n",
    "\n",
    "import pandas as pd\n",
    "import numpy as np\n",
    "from torchvision import transforms\n",
    "from textDataset import *\n",
    "\n",
    "from models import BoWClassifier, Tfid\n",
    "\n",
    "import torch\n",
    "import torch.nn as nn\n",
    "import torch.optim as optim\n",
    "\n",
    "from trainner import TrainnerNLP\n",
    "\n",
    "from gensim.models import word2vec\n",
    "from sklearn.decomposition import PCA\n",
    "import matplotlib.pyplot as plt\n",
    "\n",
    "from sklearn.manifold import TSNE\n",
    "from sklearn import neighbors\n",
    "from sklearn import metrics\n",
    "from sklearn.model_selection import train_test_split\n",
    "from sklearn.cluster import KMeans\n",
    "import time\n",
    "from scipy.spatial.distance import cdist\n",
    "from sklearn.preprocessing import MinMaxScaler, StandardScaler\n",
    "from sklearn.feature_extraction.text import TfidfVectorizer\n",
    "from tqdm import tqdm\n",
    "\n",
    "import multiprocessing\n",
    "\n",
    "import bokeh.plotting as bp\n",
    "from bokeh.models import HoverTool, BoxSelectTool\n",
    "from bokeh.plotting import figure, show, output_notebook\n",
    "\n",
    "import seaborn as sns\n",
    "sns.set_style('darkgrid')\n",
    "sns.set_palette('muted')\n",
    "sns.set_context(\"notebook\", font_scale=1.5,\n",
    "                rc={\"lines.linewidth\": 2.5})\n",
    "\n",
    "%matplotlib inline  "
   ]
  },
  {
   "cell_type": "code",
   "execution_count": 53,
   "metadata": {},
   "outputs": [
    {
     "name": "stdout",
     "output_type": "stream",
     "text": [
      "Number of CPUs: 7\n"
     ]
    }
   ],
   "source": [
    "cpu_count = 2*multiprocessing.cpu_count()-1\n",
    "print('Number of CPUs: {}'.format(cpu_count))"
   ]
  },
  {
   "cell_type": "code",
   "execution_count": 54,
   "metadata": {},
   "outputs": [],
   "source": [
    "path2data = '../data/sentiment_analysis/'\n",
    "\n",
    "text = {\n",
    "        'train': TextDataset(path2data + 'train/', extension='.tsv', sep='\\t', is_train = True),\n",
    "}    "
   ]
  },
  {
   "cell_type": "code",
   "execution_count": 55,
   "metadata": {},
   "outputs": [],
   "source": [
    "#col = 'headline_text'\n",
    "#col = 'comment_text'\n",
    "col = 'Phrase'\n",
    "text['train'].process_data(col = col, remove_stopw = True, remove_tags=True)"
   ]
  },
  {
   "cell_type": "code",
   "execution_count": 56,
   "metadata": {},
   "outputs": [
    {
     "data": {
      "text/html": [
       "<div>\n",
       "<style scoped>\n",
       "    .dataframe tbody tr th:only-of-type {\n",
       "        vertical-align: middle;\n",
       "    }\n",
       "\n",
       "    .dataframe tbody tr th {\n",
       "        vertical-align: top;\n",
       "    }\n",
       "\n",
       "    .dataframe thead th {\n",
       "        text-align: right;\n",
       "    }\n",
       "</style>\n",
       "<table border=\"1\" class=\"dataframe\">\n",
       "  <thead>\n",
       "    <tr style=\"text-align: right;\">\n",
       "      <th></th>\n",
       "      <th>PhraseId</th>\n",
       "      <th>SentenceId</th>\n",
       "      <th>Phrase</th>\n",
       "      <th>Sentiment</th>\n",
       "      <th>subject</th>\n",
       "      <th>Phrase_data</th>\n",
       "    </tr>\n",
       "  </thead>\n",
       "  <tbody>\n",
       "    <tr>\n",
       "      <th>0</th>\n",
       "      <td>1</td>\n",
       "      <td>1</td>\n",
       "      <td>A series of escapades demonstrating the adage ...</td>\n",
       "      <td>1</td>\n",
       "      <td>train</td>\n",
       "      <td>{also, occasionally, demonstrating, much, goos...</td>\n",
       "    </tr>\n",
       "    <tr>\n",
       "      <th>1</th>\n",
       "      <td>2</td>\n",
       "      <td>1</td>\n",
       "      <td>A series of escapades demonstrating the adage ...</td>\n",
       "      <td>2</td>\n",
       "      <td>train</td>\n",
       "      <td>{demonstrating, goose, good, adage, escapades,...</td>\n",
       "    </tr>\n",
       "    <tr>\n",
       "      <th>2</th>\n",
       "      <td>3</td>\n",
       "      <td>1</td>\n",
       "      <td>A series</td>\n",
       "      <td>2</td>\n",
       "      <td>train</td>\n",
       "      <td>{series}</td>\n",
       "    </tr>\n",
       "    <tr>\n",
       "      <th>3</th>\n",
       "      <td>4</td>\n",
       "      <td>1</td>\n",
       "      <td>A</td>\n",
       "      <td>2</td>\n",
       "      <td>train</td>\n",
       "      <td>{}</td>\n",
       "    </tr>\n",
       "    <tr>\n",
       "      <th>4</th>\n",
       "      <td>5</td>\n",
       "      <td>1</td>\n",
       "      <td>series</td>\n",
       "      <td>2</td>\n",
       "      <td>train</td>\n",
       "      <td>{series}</td>\n",
       "    </tr>\n",
       "  </tbody>\n",
       "</table>\n",
       "</div>"
      ],
      "text/plain": [
       "   PhraseId  SentenceId                                             Phrase  \\\n",
       "0         1           1  A series of escapades demonstrating the adage ...   \n",
       "1         2           1  A series of escapades demonstrating the adage ...   \n",
       "2         3           1                                           A series   \n",
       "3         4           1                                                  A   \n",
       "4         5           1                                             series   \n",
       "\n",
       "   Sentiment subject                                        Phrase_data  \n",
       "0          1   train  {also, occasionally, demonstrating, much, goos...  \n",
       "1          2   train  {demonstrating, goose, good, adage, escapades,...  \n",
       "2          2   train                                           {series}  \n",
       "3          2   train                                                 {}  \n",
       "4          2   train                                           {series}  "
      ]
     },
     "execution_count": 56,
     "metadata": {},
     "output_type": "execute_result"
    }
   ],
   "source": [
    "text['train'].data.head()"
   ]
  },
  {
   "cell_type": "code",
   "execution_count": 57,
   "metadata": {},
   "outputs": [],
   "source": [
    "sentences = { 'train': text['train'].data[col + '_data'].values}"
   ]
  },
  {
   "cell_type": "code",
   "execution_count": 58,
   "metadata": {},
   "outputs": [],
   "source": [
    "X = sentences['train']\n",
    "#classes = ['toxic', 'severe_toxic', 'obscene', 'threat', 'insult', 'identity_hate']\n",
    "classes = ['Sentiment']\n",
    "y = np.concatenate([np.array(i) for i in text['train'].data[classes].values])"
   ]
  },
  {
   "cell_type": "code",
   "execution_count": 59,
   "metadata": {},
   "outputs": [],
   "source": [
    "class_count=pd.value_counts(y, sort=False)"
   ]
  },
  {
   "cell_type": "code",
   "execution_count": 60,
   "metadata": {},
   "outputs": [
    {
     "data": {
      "image/png": "[encoded data removed]",
      "text/plain": [
       "<matplotlib.figure.Figure at 0x7efc819d5dd8>"
      ]
     },
     "metadata": {},
     "output_type": "display_data"
    }
   ],
   "source": [
    "Index = np.arange(1,len(class_count)+1)\n",
    "classes = ['negative','neutral','somewhat negative','somewhat positive','positive']\n",
    "fig = plt.figure(figsize=(15,5))\n",
    "plt.bar(Index,class_count,color = 'blue')\n",
    "plt.xticks(Index,classes,rotation=45)\n",
    "plt.ylabel('count')\n",
    "plt.bar(Index, class_count)\n",
    "for a,b in zip(Index, class_count):\n",
    "    plt.text(a, b, str(b) ,color='green', fontweight='bold')\n",
    "    \n",
    "fig.savefig('../figures/count_words.jpg')"
   ]
  },
  {
   "cell_type": "markdown",
   "metadata": {},
   "source": [
    "### Split data in training and validation set"
   ]
  },
  {
   "cell_type": "code",
   "execution_count": 61,
   "metadata": {},
   "outputs": [],
   "source": [
    "test_size = 0.2\n",
    "X_train, X_valid, y_train, y_valid = train_test_split(X, y, test_size=test_size, random_state=42)"
   ]
  },
  {
   "cell_type": "code",
   "execution_count": 62,
   "metadata": {},
   "outputs": [
    {
     "data": {
      "text/plain": [
       "'\\n# train model\\nW2Vmodel = word2vec.Word2Vec(X_train, workers=num_workers,             size=num_features, min_count = min_word_count,             window = context, sample = downsampling)\\nW2Vmodel.init_sims(replace=True)\\n'"
      ]
     },
     "execution_count": 62,
     "metadata": {},
     "output_type": "execute_result"
    }
   ],
   "source": [
    "# Set values for various parameters\n",
    "num_features = 300    # Word vector dimensionality                      \n",
    "min_word_count = 50   # Minimum word count                        \n",
    "num_workers = cpu_count  # Number of threads to run in parallel\n",
    "context = 10          # Context window size                                                                                    \n",
    "downsampling = 1e-3   # Downsample setting for frequent words\n",
    "\n",
    "\n",
    "\n",
    "W2Vmodel = word2vec.Word2Vec(X_train, workers=num_workers, \\\n",
    "            size=num_features, min_count = min_word_count, \\\n",
    "            window = context, sample = downsampling)\n",
    "\n",
    "'''\n",
    "W2Vmodel.build_vocab([x for x in tqdm(X_train)])\n",
    "W2Vmodel.train([x for x in tqdm(X_train)], \\\n",
    "            total_examples=model.corpus_count, epochs=model.epochs)\n",
    "'''\n",
    "'''\n",
    "# train model\n",
    "W2Vmodel = word2vec.Word2Vec(X_train, workers=num_workers, \\\n",
    "            size=num_features, min_count = min_word_count, \\\n",
    "            window = context, sample = downsampling)\n",
    "W2Vmodel.init_sims(replace=True)\n",
    "'''"
   ]
  },
  {
   "cell_type": "code",
   "execution_count": 12,
   "metadata": {},
   "outputs": [],
   "source": [
    "#https://ahmedbesbes.com/sentiment-analysis-on-twitter-using-word2vec-and-keras.html"
   ]
  },
  {
   "cell_type": "code",
   "execution_count": 63,
   "metadata": {},
   "outputs": [],
   "source": [
    "\n",
    "def makeFeatureVec(words, model, num_features):\n",
    "    # Pre-initialize an empty numpy array (for speed)\n",
    "    featureVec = np.zeros((num_features,), dtype=\"float32\")\n",
    "    nwords = 0\n",
    "    # Index2word is a list that contains the names of the words in \n",
    "    # the model's vocabulary. Convert it to a set, for speed \n",
    "    index2word_set = set(model.wv.index2word)\n",
    "    #\n",
    "    # Loop over each word in the review and, if it is in the model's\n",
    "    # vocaublary, add its feature vector to the total\n",
    "    for word in words:\n",
    "        if word in index2word_set: \n",
    "            nwords = nwords + 1\n",
    "            featureVec = np.add(featureVec, model[word])\n",
    "    # Divide the result by the number of words to get the average\n",
    "    if nwords == 0:\n",
    "        nwords = 1\n",
    "    featureVec = np.divide(featureVec, nwords)\n",
    "    return featureVec\n",
    "\n",
    "def getAvgFeatureVecs(reviews, model, num_features):\n",
    "    # Given a set of reviews (each one a list of words), calculate \n",
    "    # the average feature vector for each one and return a 2D numpy array \n",
    "    # Preallocate a 2D numpy array, for speed\n",
    "    reviewFeatureVecs = np.zeros((len(reviews), num_features), dtype=\"float32\")\n",
    "    counter = 0\n",
    "    # Loop through the reviews\n",
    "    for review in reviews:\n",
    "        # Call the function (defined above) that makes average feature vectors\n",
    "        reviewFeatureVecs[counter] = makeFeatureVec(review, model, num_features)\n",
    "        counter = counter + 1\n",
    "    return reviewFeatureVecs\n",
    "\n"
   ]
  },
  {
   "cell_type": "code",
   "execution_count": 65,
   "metadata": {},
   "outputs": [
    {
     "data": {
      "text/plain": [
       "\"\\nprint ('Building tf-idf matrix ...')\\nvectorizer = TfidfVectorizer(analyzer=lambda x: x, min_df=10)\\nmatrix = vectorizer.fit_transform([x for x in X_train])\\ntfidf = dict(zip(vectorizer.get_feature_names(), vectorizer.idf_))\\nprint ('vocab size : {}'.format(len(tfidf)))\\n\\ndef buildWordVector(model, tfidf, tokens, size):\\n    vec = np.zeros(size).reshape((1, size))\\n    count = 0.\\n    for word in tokens:\\n        try:\\n            vec += model[word].reshape((1, size)) * tfidf[word]\\n            count += 1.\\n        except KeyError: \\n            continue\\n    if count != 0:\\n        vec /= count\\n    return vec\\n\""
      ]
     },
     "execution_count": 65,
     "metadata": {},
     "output_type": "execute_result"
    }
   ],
   "source": [
    "'''\n",
    "print ('Building tf-idf matrix ...')\n",
    "vectorizer = TfidfVectorizer(analyzer=lambda x: x, min_df=10)\n",
    "matrix = vectorizer.fit_transform([x for x in X_train])\n",
    "tfidf = dict(zip(vectorizer.get_feature_names(), vectorizer.idf_))\n",
    "print ('vocab size : {}'.format(len(tfidf)))\n",
    "\n",
    "def buildWordVector(model, tfidf, tokens, size):\n",
    "    vec = np.zeros(size).reshape((1, size))\n",
    "    count = 0.\n",
    "    for word in tokens:\n",
    "        try:\n",
    "            vec += model[word].reshape((1, size)) * tfidf[word]\n",
    "            count += 1.\n",
    "        except KeyError: \n",
    "            continue\n",
    "    if count != 0:\n",
    "        vec /= count\n",
    "    return vec\n",
    "'''"
   ]
  },
  {
   "cell_type": "code",
   "execution_count": 66,
   "metadata": {},
   "outputs": [
    {
     "name": "stderr",
     "output_type": "stream",
     "text": [
      "/home/renatolr/anaconda3/lib/python3.6/site-packages/ipykernel_launcher.py:15: DeprecationWarning: Call to deprecated `__getitem__` (Method will be removed in 4.0.0, use self.wv.__getitem__() instead).\n",
      "  from ipykernel import kernelapp as app\n"
     ]
    }
   ],
   "source": [
    "#f_train = np.concatenate([buildWordVector(model, tfidf, z, num_features) for z in tqdm(map(lambda x: x, X_train))])\n",
    "#f_valid = np.concatenate([buildWordVector(model, tfidf, z, num_features) for z in tqdm(map(lambda x: x, X_valid))])\n",
    "\n",
    "f_train = getAvgFeatureVecs(X_train, W2Vmodel, num_features)\n",
    "f_valid = getAvgFeatureVecs(X_valid, W2Vmodel, num_features)"
   ]
  },
  {
   "cell_type": "code",
   "execution_count": 67,
   "metadata": {},
   "outputs": [
    {
     "name": "stdout",
     "output_type": "stream",
     "text": [
      "Shape of train features:: (124848, 300)\n",
      "Shape of valid features:: (31212, 300)\n"
     ]
    }
   ],
   "source": [
    "print('Shape of train features:: {}'.format(f_train.shape))\n",
    "print('Shape of valid features:: {}'.format(f_valid.shape))"
   ]
  },
  {
   "cell_type": "markdown",
   "metadata": {},
   "source": [
    "### Features scaling "
   ]
  },
  {
   "cell_type": "code",
   "execution_count": 68,
   "metadata": {},
   "outputs": [],
   "source": [
    "normalization_type = 'zScore'"
   ]
  },
  {
   "cell_type": "code",
   "execution_count": 69,
   "metadata": {},
   "outputs": [
    {
     "name": "stdout",
     "output_type": "stream",
     "text": [
      "Normalization type: zScore\n"
     ]
    }
   ],
   "source": [
    "print('Normalization type: {}'.format(normalization_type))\n",
    "\n",
    "if normalization_type == 'minMax':\n",
    "    scaler = MinMaxScaler()\n",
    "    \n",
    "elif normalization_type == 'zScore':        \n",
    "    scaler =  StandardScaler()"
   ]
  },
  {
   "cell_type": "code",
   "execution_count": 70,
   "metadata": {},
   "outputs": [],
   "source": [
    "## data normalization\n",
    "f_train = scaler.fit_transform(f_train)\n",
    "f_valid = scaler.transform(f_valid)"
   ]
  },
  {
   "cell_type": "markdown",
   "metadata": {},
   "source": [
    "## Words visualization using PCA"
   ]
  },
  {
   "cell_type": "code",
   "execution_count": 21,
   "metadata": {},
   "outputs": [],
   "source": [
    "def plot_pca(f_train, y_train, nb_clusters = 5):\n",
    "\n",
    "    palette = np.array(sns.color_palette(\"hls\", nb_clusters))\n",
    "\n",
    "    pca = PCA(n_components=2)\n",
    "    result = pca.fit_transform(f_train)\n",
    "    \n",
    "    plt.figure(figsize=(8, 8))     \n",
    "    plt.scatter(result[:, 0], result[:, 1], lw=0, s=40,\n",
    "                    c=palette[y_train.astype(np.int)])\n",
    "\n",
    "    plt.title('Visualization PCA')\n",
    "    plt.axis('off')\n",
    "    plt.axis('tight')\n",
    "    plt.show()"
   ]
  },
  {
   "cell_type": "code",
   "execution_count": 34,
   "metadata": {},
   "outputs": [
    {
     "data": {
      "image/png": "[encoded data removed]",
      "text/plain": [
       "<matplotlib.figure.Figure at 0x7efd62745f28>"
      ]
     },
     "metadata": {},
     "output_type": "display_data"
    }
   ],
   "source": [
    "plot_pca(f_matrix_train, y_train)"
   ]
  },
  {
   "cell_type": "markdown",
   "metadata": {},
   "source": [
    "## Words visualization using t-SNE"
   ]
  },
  {
   "cell_type": "code",
   "execution_count": 71,
   "metadata": {},
   "outputs": [],
   "source": [
    "def plot_tSNE(model,n_samples = 5000):\n",
    "\n",
    "    \n",
    "    #https://www.oreilly.com/learning/an-illustrated-introduction-to-the-t-sne-algorithm\n",
    "\n",
    "    output_notebook()\n",
    "    fig = bp.figure(plot_width=700, plot_height=600, title=\"A map of 10000 word vectors\",\n",
    "        tools=\"pan,wheel_zoom,box_zoom,reset,hover,previewsave\",\n",
    "        x_axis_type=None, y_axis_type=None, min_border=1)\n",
    "\n",
    "\n",
    "    word_vectors = [model[w] for w in model.wv.vocab.keys()][:n_samples]\n",
    "    #word_vectors = [token for token in f_matrix_train][0:n_samples]\n",
    "\n",
    "    tsne_model = TSNE(n_components=2, verbose=1, random_state=23)\n",
    "    tsne_w2v = tsne_model.fit_transform(word_vectors)\n",
    "\n",
    "    tsne_df = pd.DataFrame(tsne_w2v, columns=['x', 'y'])\n",
    "    tsne_df['words'] = [k for k in model.wv.vocab.keys()][:n_samples]\n",
    "\n",
    "    fig.scatter(x='x', y='y', source=tsne_df)\n",
    "    hover = fig.select(dict(type=HoverTool))\n",
    "    hover.tooltips={\"word\": \"@words\"}\n",
    "    show(fig)"
   ]
  },
  {
   "cell_type": "code",
   "execution_count": 72,
   "metadata": {},
   "outputs": [
    {
     "data": {
      "text/html": [
       "\n",
       "    <div class=\"bk-root\">\n",
       "        <a href=\"https://bokeh.pydata.org\" target=\"_blank\" class=\"bk-logo bk-logo-small bk-logo-notebook\"></a>\n",
       "        <span id=\"93b535b2-c2c5-4447-90ea-49d92708bc56\">Loading BokehJS ...</span>\n",
       "    </div>"
      ]
     },
     "metadata": {},
     "output_type": "display_data"
    },
    {
     "data": {
      "application/javascript": [
       "\n",
       "(function(root) {\n",
       "  function now() {\n",
       "    return new Date();\n",
       "  }\n",
       "\n",
       "  var force = true;\n",
       "\n",
       "  if (typeof (root._bokeh_onload_callbacks) === \"undefined\" || force === true) {\n",
       "    root._bokeh_onload_callbacks = [];\n",
       "    root._bokeh_is_loading = undefined;\n",
       "  }\n",
       "\n",
       "  var JS_MIME_TYPE = 'application/javascript';\n",
       "  var HTML_MIME_TYPE = 'text/html';\n",
       "  var EXEC_MIME_TYPE = 'application/vnd.bokehjs_exec.v0+json';\n",
       "  var CLASS_NAME = 'output_bokeh rendered_html';\n",
       "\n",
       "  /**\n",
       "   * Render data to the DOM node\n",
       "   */\n",
       "  function render(props, node) {\n",
       "    var script = document.createElement(\"script\");\n",
       "    node.appendChild(script);\n",
       "  }\n",
       "\n",
       "  /**\n",
       "   * Handle when an output is cleared or removed\n",
       "   */\n",
       "  function handleClearOutput(event, handle) {\n",
       "    var cell = handle.cell;\n",
       "\n",
       "    var id = cell.output_area._bokeh_element_id;\n",
       "    var server_id = cell.output_area._bokeh_server_id;\n",
       "    // Clean up Bokeh references\n",
       "    if (id !== undefined) {\n",
       "      Bokeh.index[id].model.document.clear();\n",
       "      delete Bokeh.index[id];\n",
       "    }\n",
       "\n",
       "    if (server_id !== undefined) {\n",
       "      // Clean up Bokeh references\n",
       "      var cmd = \"from bokeh.io.state import curstate; print(curstate().uuid_to_server['\" + server_id + \"'].get_sessions()[0].document.roots[0]._id)\";\n",
       "      cell.notebook.kernel.execute(cmd, {\n",
       "        iopub: {\n",
       "          output: function(msg) {\n",
       "            var element_id = msg.content.text.trim();\n",
       "            Bokeh.index[element_id].model.document.clear();\n",
       "            delete Bokeh.index[element_id];\n",
       "          }\n",
       "        }\n",
       "      });\n",
       "      // Destroy server and session\n",
       "      var cmd = \"import bokeh.io.notebook as ion; ion.destroy_server('\" + server_id + \"')\";\n",
       "      cell.notebook.kernel.execute(cmd);\n",
       "    }\n",
       "  }\n",
       "\n",
       "  /**\n",
       "   * Handle when a new output is added\n",
       "   */\n",
       "  function handleAddOutput(event, handle) {\n",
       "    var output_area = handle.output_area;\n",
       "    var output = handle.output;\n",
       "\n",
       "    // limit handleAddOutput to display_data with EXEC_MIME_TYPE content only\n",
       "    if ((output.output_type != \"display_data\") || (!output.data.hasOwnProperty(EXEC_MIME_TYPE))) {\n",
       "      return\n",
       "    }\n",
       "\n",
       "    var toinsert = output_area.element.find(\".\" + CLASS_NAME.split(' ')[0]);\n",
       "\n",
       "    if (output.metadata[EXEC_MIME_TYPE][\"id\"] !== undefined) {\n",
       "      toinsert[0].firstChild.textContent = output.data[JS_MIME_TYPE];\n",
       "      // store reference to embed id on output_area\n",
       "      output_area._bokeh_element_id = output.metadata[EXEC_MIME_TYPE][\"id\"];\n",
       "    }\n",
       "    if (output.metadata[EXEC_MIME_TYPE][\"server_id\"] !== undefined) {\n",
       "      var bk_div = document.createElement(\"div\");\n",
       "      bk_div.innerHTML = output.data[HTML_MIME_TYPE];\n",
       "      var script_attrs = bk_div.children[0].attributes;\n",
       "      for (var i = 0; i < script_attrs.length; i++) {\n",
       "        toinsert[0].firstChild.setAttribute(script_attrs[i].name, script_attrs[i].value);\n",
       "      }\n",
       "      // store reference to server id on output_area\n",
       "      output_area._bokeh_server_id = output.metadata[EXEC_MIME_TYPE][\"server_id\"];\n",
       "    }\n",
       "  }\n",
       "\n",
       "  function register_renderer(events, OutputArea) {\n",
       "\n",
       "    function append_mime(data, metadata, element) {\n",
       "      // create a DOM node to render to\n",
       "      var toinsert = this.create_output_subarea(\n",
       "        metadata,\n",
       "        CLASS_NAME,\n",
       "        EXEC_MIME_TYPE\n",
       "      );\n",
       "      this.keyboard_manager.register_events(toinsert);\n",
       "      // Render to node\n",
       "      var props = {data: data, metadata: metadata[EXEC_MIME_TYPE]};\n",
       "      render(props, toinsert[0]);\n",
       "      element.append(toinsert);\n",
       "      return toinsert\n",
       "    }\n",
       "\n",
       "    /* Handle when an output is cleared or removed */\n",
       "    events.on('clear_output.CodeCell', handleClearOutput);\n",
       "    events.on('delete.Cell', handleClearOutput);\n",
       "\n",
       "    /* Handle when a new output is added */\n",
       "    events.on('output_added.OutputArea', handleAddOutput);\n",
       "\n",
       "    /**\n",
       "     * Register the mime type and append_mime function with output_area\n",
       "     */\n",
       "    OutputArea.prototype.register_mime_type(EXEC_MIME_TYPE, append_mime, {\n",
       "      /* Is output safe? */\n",
       "      safe: true,\n",
       "      /* Index of renderer in `output_area.display_order` */\n",
       "      index: 0\n",
       "    });\n",
       "  }\n",
       "\n",
       "  // register the mime type if in Jupyter Notebook environment and previously unregistered\n",
       "  if (root.Jupyter !== undefined) {\n",
       "    var events = require('base/js/events');\n",
       "    var OutputArea = require('notebook/js/outputarea').OutputArea;\n",
       "\n",
       "    if (OutputArea.prototype.mime_types().indexOf(EXEC_MIME_TYPE) == -1) {\n",
       "      register_renderer(events, OutputArea);\n",
       "    }\n",
       "  }\n",
       "\n",
       "  \n",
       "  if (typeof (root._bokeh_timeout) === \"undefined\" || force === true) {\n",
       "    root._bokeh_timeout = Date.now() + 5000;\n",
       "    root._bokeh_failed_load = false;\n",
       "  }\n",
       "\n",
       "  var NB_LOAD_WARNING = {'data': {'text/html':\n",
       "     \"<div style='background-color: #fdd'>\\n\"+\n",
       "     \"<p>\\n\"+\n",
       "     \"BokehJS does not appear to have successfully loaded. If loading BokehJS from CDN, this \\n\"+\n",
       "     \"may be due to a slow or bad network connection. Possible fixes:\\n\"+\n",
       "     \"</p>\\n\"+\n",
       "     \"<ul>\\n\"+\n",
       "     \"<li>re-rerun `output_notebook()` to attempt to load from CDN again, or</li>\\n\"+\n",
       "     \"<li>use INLINE resources instead, as so:</li>\\n\"+\n",
       "     \"</ul>\\n\"+\n",
       "     \"<code>\\n\"+\n",
       "     \"from bokeh.resources import INLINE\\n\"+\n",
       "     \"output_notebook(resources=INLINE)\\n\"+\n",
       "     \"</code>\\n\"+\n",
       "     \"</div>\"}};\n",
       "\n",
       "  function display_loaded() {\n",
       "    var el = document.getElementById(\"93b535b2-c2c5-4447-90ea-49d92708bc56\");\n",
       "    if (el != null) {\n",
       "      el.textContent = \"BokehJS is loading...\";\n",
       "    }\n",
       "    if (root.Bokeh !== undefined) {\n",
       "      if (el != null) {\n",
       "        el.textContent = \"BokehJS \" + root.Bokeh.version + \" successfully loaded.\";\n",
       "      }\n",
       "    } else if (Date.now() < root._bokeh_timeout) {\n",
       "      setTimeout(display_loaded, 100)\n",
       "    }\n",
       "  }\n",
       "\n",
       "\n",
       "  function run_callbacks() {\n",
       "    try {\n",
       "      root._bokeh_onload_callbacks.forEach(function(callback) { callback() });\n",
       "    }\n",
       "    finally {\n",
       "      delete root._bokeh_onload_callbacks\n",
       "    }\n",
       "    console.info(\"Bokeh: all callbacks have finished\");\n",
       "  }\n",
       "\n",
       "  function load_libs(js_urls, callback) {\n",
       "    root._bokeh_onload_callbacks.push(callback);\n",
       "    if (root._bokeh_is_loading > 0) {\n",
       "      console.log(\"Bokeh: BokehJS is being loaded, scheduling callback at\", now());\n",
       "      return null;\n",
       "    }\n",
       "    if (js_urls == null || js_urls.length === 0) {\n",
       "      run_callbacks();\n",
       "      return null;\n",
       "    }\n",
       "    console.log(\"Bokeh: BokehJS not loaded, scheduling load and callback at\", now());\n",
       "    root._bokeh_is_loading = js_urls.length;\n",
       "    for (var i = 0; i < js_urls.length; i++) {\n",
       "      var url = js_urls[i];\n",
       "      var s = document.createElement('script');\n",
       "      s.src = url;\n",
       "      s.async = false;\n",
       "      s.onreadystatechange = s.onload = function() {\n",
       "        root._bokeh_is_loading--;\n",
       "        if (root._bokeh_is_loading === 0) {\n",
       "          console.log(\"Bokeh: all BokehJS libraries loaded\");\n",
       "          run_callbacks()\n",
       "        }\n",
       "      };\n",
       "      s.onerror = function() {\n",
       "        console.warn(\"failed to load library \" + url);\n",
       "      };\n",
       "      console.log(\"Bokeh: injecting script tag for BokehJS library: \", url);\n",
       "      document.getElementsByTagName(\"head\")[0].appendChild(s);\n",
       "    }\n",
       "  };var element = document.getElementById(\"93b535b2-c2c5-4447-90ea-49d92708bc56\");\n",
       "  if (element == null) {\n",
       "    console.log(\"Bokeh: ERROR: autoload.js configured with elementid '93b535b2-c2c5-4447-90ea-49d92708bc56' but no matching script tag was found. \")\n",
       "    return false;\n",
       "  }\n",
       "\n",
       "  var js_urls = [\"https://cdn.pydata.org/bokeh/release/bokeh-0.12.13.min.js\", \"https://cdn.pydata.org/bokeh/release/bokeh-widgets-0.12.13.min.js\", \"https://cdn.pydata.org/bokeh/release/bokeh-tables-0.12.13.min.js\", \"https://cdn.pydata.org/bokeh/release/bokeh-gl-0.12.13.min.js\"];\n",
       "\n",
       "  var inline_js = [\n",
       "    function(Bokeh) {\n",
       "      Bokeh.set_log_level(\"info\");\n",
       "    },\n",
       "    \n",
       "    function(Bokeh) {\n",
       "      \n",
       "    },\n",
       "    function(Bokeh) {\n",
       "      console.log(\"Bokeh: injecting CSS: https://cdn.pydata.org/bokeh/release/bokeh-0.12.13.min.css\");\n",
       "      Bokeh.embed.inject_css(\"https://cdn.pydata.org/bokeh/release/bokeh-0.12.13.min.css\");\n",
       "      console.log(\"Bokeh: injecting CSS: https://cdn.pydata.org/bokeh/release/bokeh-widgets-0.12.13.min.css\");\n",
       "      Bokeh.embed.inject_css(\"https://cdn.pydata.org/bokeh/release/bokeh-widgets-0.12.13.min.css\");\n",
       "      console.log(\"Bokeh: injecting CSS: https://cdn.pydata.org/bokeh/release/bokeh-tables-0.12.13.min.css\");\n",
       "      Bokeh.embed.inject_css(\"https://cdn.pydata.org/bokeh/release/bokeh-tables-0.12.13.min.css\");\n",
       "    }\n",
       "  ];\n",
       "\n",
       "  function run_inline_js() {\n",
       "    \n",
       "    if ((root.Bokeh !== undefined) || (force === true)) {\n",
       "      for (var i = 0; i < inline_js.length; i++) {\n",
       "        inline_js[i].call(root, root.Bokeh);\n",
       "      }if (force === true) {\n",
       "        display_loaded();\n",
       "      }} else if (Date.now() < root._bokeh_timeout) {\n",
       "      setTimeout(run_inline_js, 100);\n",
       "    } else if (!root._bokeh_failed_load) {\n",
       "      console.log(\"Bokeh: BokehJS failed to load within specified timeout.\");\n",
       "      root._bokeh_failed_load = true;\n",
       "    } else if (force !== true) {\n",
       "      var cell = $(document.getElementById(\"93b535b2-c2c5-4447-90ea-49d92708bc56\")).parents('.cell').data().cell;\n",
       "      cell.output_area.append_execute_result(NB_LOAD_WARNING)\n",
       "    }\n",
       "\n",
       "  }\n",
       "\n",
       "  if (root._bokeh_is_loading === 0) {\n",
       "    console.log(\"Bokeh: BokehJS loaded, going straight to plotting\");\n",
       "    run_inline_js();\n",
       "  } else {\n",
       "    load_libs(js_urls, function() {\n",
       "      console.log(\"Bokeh: BokehJS plotting callback run at\", now());\n",
       "      run_inline_js();\n",
       "    });\n",
       "  }\n",
       "}(window));"
      ],
      "application/vnd.bokehjs_load.v0+json": "\n(function(root) {\n  function now() {\n    return new Date();\n  }\n\n  var force = true;\n\n  if (typeof (root._bokeh_onload_callbacks) === \"undefined\" || force === true) {\n    root._bokeh_onload_callbacks = [];\n    root._bokeh_is_loading = undefined;\n  }\n\n  \n\n  \n  if (typeof (root._bokeh_timeout) === \"undefined\" || force === true) {\n    root._bokeh_timeout = Date.now() + 5000;\n    root._bokeh_failed_load = false;\n  }\n\n  var NB_LOAD_WARNING = {'data': {'text/html':\n     \"<div style='background-color: #fdd'>\\n\"+\n     \"<p>\\n\"+\n     \"BokehJS does not appear to have successfully loaded. If loading BokehJS from CDN, this \\n\"+\n     \"may be due to a slow or bad network connection. Possible fixes:\\n\"+\n     \"</p>\\n\"+\n     \"<ul>\\n\"+\n     \"<li>re-rerun `output_notebook()` to attempt to load from CDN again, or</li>\\n\"+\n     \"<li>use INLINE resources instead, as so:</li>\\n\"+\n     \"</ul>\\n\"+\n     \"<code>\\n\"+\n     \"from bokeh.resources import INLINE\\n\"+\n     \"output_notebook(resources=INLINE)\\n\"+\n     \"</code>\\n\"+\n     \"</div>\"}};\n\n  function display_loaded() {\n    var el = document.getElementById(\"93b535b2-c2c5-4447-90ea-49d92708bc56\");\n    if (el != null) {\n      el.textContent = \"BokehJS is loading...\";\n    }\n    if (root.Bokeh !== undefined) {\n      if (el != null) {\n        el.textContent = \"BokehJS \" + root.Bokeh.version + \" successfully loaded.\";\n      }\n    } else if (Date.now() < root._bokeh_timeout) {\n      setTimeout(display_loaded, 100)\n    }\n  }\n\n\n  function run_callbacks() {\n    try {\n      root._bokeh_onload_callbacks.forEach(function(callback) { callback() });\n    }\n    finally {\n      delete root._bokeh_onload_callbacks\n    }\n    console.info(\"Bokeh: all callbacks have finished\");\n  }\n\n  function load_libs(js_urls, callback) {\n    root._bokeh_onload_callbacks.push(callback);\n    if (root._bokeh_is_loading > 0) {\n      console.log(\"Bokeh: BokehJS is being loaded, scheduling callback at\", now());\n      return null;\n    }\n    if (js_urls == null || js_urls.length === 0) {\n      run_callbacks();\n      return null;\n    }\n    console.log(\"Bokeh: BokehJS not loaded, scheduling load and callback at\", now());\n    root._bokeh_is_loading = js_urls.length;\n    for (var i = 0; i < js_urls.length; i++) {\n      var url = js_urls[i];\n      var s = document.createElement('script');\n      s.src = url;\n      s.async = false;\n      s.onreadystatechange = s.onload = function() {\n        root._bokeh_is_loading--;\n        if (root._bokeh_is_loading === 0) {\n          console.log(\"Bokeh: all BokehJS libraries loaded\");\n          run_callbacks()\n        }\n      };\n      s.onerror = function() {\n        console.warn(\"failed to load library \" + url);\n      };\n      console.log(\"Bokeh: injecting script tag for BokehJS library: \", url);\n      document.getElementsByTagName(\"head\")[0].appendChild(s);\n    }\n  };var element = document.getElementById(\"93b535b2-c2c5-4447-90ea-49d92708bc56\");\n  if (element == null) {\n    console.log(\"Bokeh: ERROR: autoload.js configured with elementid '93b535b2-c2c5-4447-90ea-49d92708bc56' but no matching script tag was found. \")\n    return false;\n  }\n\n  var js_urls = [\"https://cdn.pydata.org/bokeh/release/bokeh-0.12.13.min.js\", \"https://cdn.pydata.org/bokeh/release/bokeh-widgets-0.12.13.min.js\", \"https://cdn.pydata.org/bokeh/release/bokeh-tables-0.12.13.min.js\", \"https://cdn.pydata.org/bokeh/release/bokeh-gl-0.12.13.min.js\"];\n\n  var inline_js = [\n    function(Bokeh) {\n      Bokeh.set_log_level(\"info\");\n    },\n    \n    function(Bokeh) {\n      \n    },\n    function(Bokeh) {\n      console.log(\"Bokeh: injecting CSS: https://cdn.pydata.org/bokeh/release/bokeh-0.12.13.min.css\");\n      Bokeh.embed.inject_css(\"https://cdn.pydata.org/bokeh/release/bokeh-0.12.13.min.css\");\n      console.log(\"Bokeh: injecting CSS: https://cdn.pydata.org/bokeh/release/bokeh-widgets-0.12.13.min.css\");\n      Bokeh.embed.inject_css(\"https://cdn.pydata.org/bokeh/release/bokeh-widgets-0.12.13.min.css\");\n      console.log(\"Bokeh: injecting CSS: https://cdn.pydata.org/bokeh/release/bokeh-tables-0.12.13.min.css\");\n      Bokeh.embed.inject_css(\"https://cdn.pydata.org/bokeh/release/bokeh-tables-0.12.13.min.css\");\n    }\n  ];\n\n  function run_inline_js() {\n    \n    if ((root.Bokeh !== undefined) || (force === true)) {\n      for (var i = 0; i < inline_js.length; i++) {\n        inline_js[i].call(root, root.Bokeh);\n      }if (force === true) {\n        display_loaded();\n      }} else if (Date.now() < root._bokeh_timeout) {\n      setTimeout(run_inline_js, 100);\n    } else if (!root._bokeh_failed_load) {\n      console.log(\"Bokeh: BokehJS failed to load within specified timeout.\");\n      root._bokeh_failed_load = true;\n    } else if (force !== true) {\n      var cell = $(document.getElementById(\"93b535b2-c2c5-4447-90ea-49d92708bc56\")).parents('.cell').data().cell;\n      cell.output_area.append_execute_result(NB_LOAD_WARNING)\n    }\n\n  }\n\n  if (root._bokeh_is_loading === 0) {\n    console.log(\"Bokeh: BokehJS loaded, going straight to plotting\");\n    run_inline_js();\n  } else {\n    load_libs(js_urls, function() {\n      console.log(\"Bokeh: BokehJS plotting callback run at\", now());\n      run_inline_js();\n    });\n  }\n}(window));"
     },
     "metadata": {},
     "output_type": "display_data"
    },
    {
     "name": "stderr",
     "output_type": "stream",
     "text": [
      "/home/renatolr/anaconda3/lib/python3.6/site-packages/ipykernel_launcher.py:12: DeprecationWarning: Call to deprecated `__getitem__` (Method will be removed in 4.0.0, use self.wv.__getitem__() instead).\n",
      "  if sys.path[0] == '':\n"
     ]
    },
    {
     "name": "stdout",
     "output_type": "stream",
     "text": [
      "[t-SNE] Computing 91 nearest neighbors...\n",
      "[t-SNE] Indexed 1836 samples in 0.027s...\n",
      "[t-SNE] Computed neighbors for 1836 samples in 1.836s...\n",
      "[t-SNE] Computed conditional probabilities for sample 1000 / 1836\n",
      "[t-SNE] Computed conditional probabilities for sample 1836 / 1836\n",
      "[t-SNE] Mean sigma: 0.074349\n",
      "[t-SNE] KL divergence after 250 iterations with early exaggeration: 71.713135\n",
      "[t-SNE] Error after 1000 iterations: 1.354611\n"
     ]
    },
    {
     "data": {
      "text/html": [
       "\n",
       "<div class=\"bk-root\">\n",
       "    <div class=\"bk-plotdiv\" id=\"cbbfeaee-e99f-4363-9a81-1dcd2e4387db\"></div>\n",
       "</div>"
      ]
     },
     "metadata": {},
     "output_type": "display_data"
    },
    {
     "data": {
      "application/javascript": [
       "(function(root) {\n",
       "  function embed_document(root) {\n",
       "    \n",
       "  var docs_json = {\"379c4cde-6f82-4da5-8230-5596d9d40100\":{\"roots\":{\"references\":[{\"attributes\":{},\"id\":\"bd1758b7-7730-4b55-bfa1-4625cfccf783\",\"type\":\"WheelZoomTool\"},{\"attributes\":{},\"id\":\"eed9606f-fba5-4ba2-b5cf-4a8154dca4d9\",\"type\":\"SaveTool\"},{\"attributes\":{},\"id\":\"32714af7-b2e4-424d-b3f6-fffe24b7b1ae\",\"type\":\"PanTool\"},{\"attributes\":{\"fill_color\":{\"value\":\"#1f77b4\"},\"line_color\":{\"value\":\"#1f77b4\"},\"x\":{\"field\":\"x\"},\"y\":{\"field\":\"y\"}},\"id\":\"22bb4974-82a9-4a64-86aa-61d2941057b1\",\"type\":\"Circle\"},{\"attributes\":{},\"id\":\"11ae4efd-b4ff-430e-8720-c89bde33ba9c\",\"type\":\"LinearScale\"},{\"attributes\":{\"fill_alpha\":{\"value\":0.1},\"fill_color\":{\"value\":\"#1f77b4\"},\"line_alpha\":{\"value\":0.1},\"line_color\":{\"value\":\"#1f77b4\"},\"x\":{\"field\":\"x\"},\"y\":{\"field\":\"y\"}},\"id\":\"2c307914-53ac-4b58-8592-44231e7caa73\",\"type\":\"Circle\"},{\"attributes\":{},\"id\":\"bffe8730-f426-4368-a308-0f9be4b4f21e\",\"type\":\"LinearScale\"},{\"attributes\":{\"active_drag\":\"auto\",\"active_inspect\":\"auto\",\"active_scroll\":\"auto\",\"active_tap\":\"auto\",\"tools\":[{\"id\":\"32714af7-b2e4-424d-b3f6-fffe24b7b1ae\",\"type\":\"PanTool\"},{\"id\":\"bd1758b7-7730-4b55-bfa1-4625cfccf783\",\"type\":\"WheelZoomTool\"},{\"id\":\"9dca6b95-fa85-4f22-95f4-4912cb7aaef8\",\"type\":\"BoxZoomTool\"},{\"id\":\"8fe0b88f-06ce-4cef-9e4b-89739ad6de83\",\"type\":\"ResetTool\"},{\"id\":\"6586c1ef-741b-4b90-9e41-1aaf7e98f9a1\",\"type\":\"HoverTool\"},{\"id\":\"eed9606f-fba5-4ba2-b5cf-4a8154dca4d9\",\"type\":\"SaveTool\"}]},\"id\":\"5c3c4511-8ccc-4ec2-a0ab-f249f5db80ac\",\"type\":\"Toolbar\"},{\"attributes\":{\"bottom_units\":\"screen\",\"fill_alpha\":{\"value\":0.5},\"fill_color\":{\"value\":\"lightgrey\"},\"left_units\":\"screen\",\"level\":\"overlay\",\"line_alpha\":{\"value\":1.0},\"line_color\":{\"value\":\"black\"},\"line_dash\":[4,4],\"line_width\":{\"value\":2},\"plot\":null,\"render_mode\":\"css\",\"right_units\":\"screen\",\"top_units\":\"screen\"},\"id\":\"f5f2f151-1a37-40cd-bf7c-6174364fdc5e\",\"type\":\"BoxAnnotation\"},{\"attributes\":{\"callback\":null},\"id\":\"69c4d3f7-78bf-4517-8c59-8b1e9e6b3e5f\",\"type\":\"DataRange1d\"},{\"attributes\":{\"callback\":null},\"id\":\"972f27db-4c6b-4b15-973c-e974e237f2c0\",\"type\":\"DataRange1d\"},{\"attributes\":{\"source\":{\"id\":\"ea24a03b-5e39-44d0-84c1-af81d133f821\",\"type\":\"ColumnDataSource\"}},\"id\":\"b0db53cc-c074-45cb-b97a-fd4608fa9467\",\"type\":\"CDSView\"},{\"attributes\":{\"plot\":null,\"text\":\"A map of 10000 word vectors\"},\"id\":\"a2f3c168-da2e-4a18-aa88-21b5646801cf\",\"type\":\"Title\"},{\"attributes\":{\"data_source\":{\"id\":\"ea24a03b-5e39-44d0-84c1-af81d133f821\",\"type\":\"ColumnDataSource\"},\"glyph\":{\"id\":\"22bb4974-82a9-4a64-86aa-61d2941057b1\",\"type\":\"Circle\"},\"hover_glyph\":null,\"muted_glyph\":null,\"nonselection_glyph\":{\"id\":\"2c307914-53ac-4b58-8592-44231e7caa73\",\"type\":\"Circle\"},\"selection_glyph\":null,\"view\":{\"id\":\"b0db53cc-c074-45cb-b97a-fd4608fa9467\",\"type\":\"CDSView\"}},\"id\":\"6db565b5-e194-42fc-9351-3cdad39a8e4c\",\"type\":\"GlyphRenderer\"},{\"attributes\":{},\"id\":\"8fe0b88f-06ce-4cef-9e4b-89739ad6de83\",\"type\":\"ResetTool\"},{\"attributes\":{\"overlay\":{\"id\":\"f5f2f151-1a37-40cd-bf7c-6174364fdc5e\",\"type\":\"BoxAnnotation\"}},\"id\":\"9dca6b95-fa85-4f22-95f4-4912cb7aaef8\",\"type\":\"BoxZoomTool\"},{\"attributes\":{\"min_border\":1,\"plot_width\":700,\"renderers\":[{\"id\":\"f5f2f151-1a37-40cd-bf7c-6174364fdc5e\",\"type\":\"BoxAnnotation\"},{\"id\":\"6db565b5-e194-42fc-9351-3cdad39a8e4c\",\"type\":\"GlyphRenderer\"}],\"title\":{\"id\":\"a2f3c168-da2e-4a18-aa88-21b5646801cf\",\"type\":\"Title\"},\"toolbar\":{\"id\":\"5c3c4511-8ccc-4ec2-a0ab-f249f5db80ac\",\"type\":\"Toolbar\"},\"x_range\":{\"id\":\"69c4d3f7-78bf-4517-8c59-8b1e9e6b3e5f\",\"type\":\"DataRange1d\"},\"x_scale\":{\"id\":\"11ae4efd-b4ff-430e-8720-c89bde33ba9c\",\"type\":\"LinearScale\"},\"y_range\":{\"id\":\"972f27db-4c6b-4b15-973c-e974e237f2c0\",\"type\":\"DataRange1d\"},\"y_scale\":{\"id\":\"bffe8730-f426-4368-a308-0f9be4b4f21e\",\"type\":\"LinearScale\"}},\"id\":\"a6472eb7-59ea-4baf-8ee1-0ed9e82fd088\",\"subtype\":\"Figure\",\"type\":\"Plot\"},{\"attributes\":{\"callback\":null,\"column_names\":[\"x\",\"y\",\"words\",\"index\"],\"data\":{\"index\":[0,1,2,3,4,5,6,7,8,9,10,11,12,13,14,15,16,17,18,19,20,21,22,23,24,25,26,27,28,29,30,31,32,33,34,35,36,37,38,39,40,41,42,43,44,45,46,47,48,49,50,51,52,53,54,55,56,57,58,59,60,61,62,63,64,65,66,67,68,69,70,71,72,73,74,75,76,77,78,79,80,81,82,83,84,85,86,87,88,89,90,91,92,93,94,95,96,97,98,99,100,101,102,103,104,105,106,107,108,109,110,111,112,113,114,115,116,117,118,119,120,121,122,123,124,125,126,127,128,129,130,131,132,133,134,135,136,137,138,139,140,141,142,143,144,145,146,147,148,149,150,151,152,153,154,155,156,157,158,159,160,161,162,163,164,165,166,167,168,169,170,171,172,173,174,175,176,177,178,179,180,181,182,183,184,185,186,187,188,189,190,191,192,193,194,195,196,197,198,199,200,201,202,203,204,205,206,207,208,209,210,211,212,213,214,215,216,217,218,219,220,221,222,223,224,225,226,227,228,229,230,231,232,233,234,235,236,237,238,239,240,241,242,243,244,245,246,247,248,249,250,251,252,253,254,255,256,257,258,259,260,261,262,263,264,265,266,267,268,269,270,271,272,273,274,275,276,277,278,279,280,281,282,283,284,285,286,287,288,289,290,291,292,293,294,295,296,297,298,299,300,301,302,303,304,305,306,307,308,309,310,311,312,313,314,315,316,317,318,319,320,321,322,323,324,325,326,327,328,329,330,331,332,333,334,335,336,337,338,339,340,341,342,343,344,345,346,347,348,349,350,351,352,353,354,355,356,357,358,359,360,361,362,363,364,365,366,367,368,369,370,371,372,373,374,375,376,377,378,379,380,381,382,383,384,385,386,387,388,389,390,391,392,393,394,395,396,397,398,399,400,401,402,403,404,405,406,407,408,409,410,411,412,413,414,415,416,417,418,419,420,421,422,423,424,425,426,427,428,429,430,431,432,433,434,435,436,437,438,439,440,441,442,443,444,445,446,447,448,449,450,451,452,453,454,455,456,457,458,459,460,461,462,463,464,465,466,467,468,469,470,471,472,473,474,475,476,477,478,479,480,481,482,483,484,485,486,487,488,489,490,491,492,493,494,495,496,497,498,499,500,501,502,503,504,505,506,507,508,509,510,511,512,513,514,515,516,517,518,519,520,521,522,523,524,525,526,527,528,529,530,531,532,533,534,535,536,537,538,539,540,541,542,543,544,545,546,547,548,549,550,551,552,553,554,555,556,557,558,559,560,561,562,563,564,565,566,567,568,569,570,571,572,573,574,575,576,577,578,579,580,581,582,583,584,585,586,587,588,589,590,591,592,593,594,595,596,597,598,599,600,601,602,603,604,605,606,607,608,609,610,611,612,613,614,615,616,617,618,619,620,621,622,623,624,625,626,627,628,629,630,631,632,633,634,635,636,637,638,639,640,641,642,643,644,645,646,647,648,649,650,651,652,653,654,655,656,657,658,659,660,661,662,663,664,665,666,667,668,669,670,671,672,673,674,675,676,677,678,679,680,681,682,683,684,685,686,687,688,689,690,691,692,693,694,695,696,697,698,699,700,701,702,703,704,705,706,707,708,709,710,711,712,713,714,715,716,717,718,719,720,721,722,723,724,725,726,727,728,729,730,731,732,733,734,735,736,737,738,739,740,741,742,743,744,745,746,747,748,749,750,751,752,753,754,755,756,757,758,759,760,761,762,763,764,765,766,767,768,769,770,771,772,773,774,775,776,777,778,779,780,781,782,783,784,785,786,787,788,789,790,791,792,793,794,795,796,797,798,799,800,801,802,803,804,805,806,807,808,809,810,811,812,813,814,815,816,817,818,819,820,821,822,823,824,825,826,827,828,829,830,831,832,833,834,835,836,837,838,839,840,841,842,843,844,845,846,847,848,849,850,851,852,853,854,855,856,857,858,859,860,861,862,863,864,865,866,867,868,869,870,871,872,873,874,875,876,877,878,879,880,881,882,883,884,885,886,887,888,889,890,891,892,893,894,895,896,897,898,899,900,901,902,903,904,905,906,907,908,909,910,911,912,913,914,915,916,917,918,919,920,921,922,923,924,925,926,927,928,929,930,931,932,933,934,935,936,937,938,939,940,941,942,943,944,945,946,947,948,949,950,951,952,953,954,955,956,957,958,959,960,961,962,963,964,965,966,967,968,969,970,971,972,973,974,975,976,977,978,979,980,981,982,983,984,985,986,987,988,989,990,991,992,993,994,995,996,997,998,999,1000,1001,1002,1003,1004,1005,1006,1007,1008,1009,1010,1011,1012,1013,1014,1015,1016,1017,1018,1019,1020,1021,1022,1023,1024,1025,1026,1027,1028,1029,1030,1031,1032,1033,1034,1035,1036,1037,1038,1039,1040,1041,1042,1043,1044,1045,1046,1047,1048,1049,1050,1051,1052,1053,1054,1055,1056,1057,1058,1059,1060,1061,1062,1063,1064,1065,1066,1067,1068,1069,1070,1071,1072,1073,1074,1075,1076,1077,1078,1079,1080,1081,1082,1083,1084,1085,1086,1087,1088,1089,1090,1091,1092,1093,1094,1095,1096,1097,1098,1099,1100,1101,1102,1103,1104,1105,1106,1107,1108,1109,1110,1111,1112,1113,1114,1115,1116,1117,1118,1119,1120,1121,1122,1123,1124,1125,1126,1127,1128,1129,1130,1131,1132,1133,1134,1135,1136,1137,1138,1139,1140,1141,1142,1143,1144,1145,1146,1147,1148,1149,1150,1151,1152,1153,1154,1155,1156,1157,1158,1159,1160,1161,1162,1163,1164,1165,1166,1167,1168,1169,1170,1171,1172,1173,1174,1175,1176,1177,1178,1179,1180,1181,1182,1183,1184,1185,1186,1187,1188,1189,1190,1191,1192,1193,1194,1195,1196,1197,1198,1199,1200,1201,1202,1203,1204,1205,1206,1207,1208,1209,1210,1211,1212,1213,1214,1215,1216,1217,1218,1219,1220,1221,1222,1223,1224,1225,1226,1227,1228,1229,1230,1231,1232,1233,1234,1235,1236,1237,1238,1239,1240,1241,1242,1243,1244,1245,1246,1247,1248,1249,1250,1251,1252,1253,1254,1255,1256,1257,1258,1259,1260,1261,1262,1263,1264,1265,1266,1267,1268,1269,1270,1271,1272,1273,1274,1275,1276,1277,1278,1279,1280,1281,1282,1283,1284,1285,1286,1287,1288,1289,1290,1291,1292,1293,1294,1295,1296,1297,1298,1299,1300,1301,1302,1303,1304,1305,1306,1307,1308,1309,1310,1311,1312,1313,1314,1315,1316,1317,1318,1319,1320,1321,1322,1323,1324,1325,1326,1327,1328,1329,1330,1331,1332,1333,1334,1335,1336,1337,1338,1339,1340,1341,1342,1343,1344,1345,1346,1347,1348,1349,1350,1351,1352,1353,1354,1355,1356,1357,1358,1359,1360,1361,1362,1363,1364,1365,1366,1367,1368,1369,1370,1371,1372,1373,1374,1375,1376,1377,1378,1379,1380,1381,1382,1383,1384,1385,1386,1387,1388,1389,1390,1391,1392,1393,1394,1395,1396,1397,1398,1399,1400,1401,1402,1403,1404,1405,1406,1407,1408,1409,1410,1411,1412,1413,1414,1415,1416,1417,1418,1419,1420,1421,1422,1423,1424,1425,1426,1427,1428,1429,1430,1431,1432,1433,1434,1435,1436,1437,1438,1439,1440,1441,1442,1443,1444,1445,1446,1447,1448,1449,1450,1451,1452,1453,1454,1455,1456,1457,1458,1459,1460,1461,1462,1463,1464,1465,1466,1467,1468,1469,1470,1471,1472,1473,1474,1475,1476,1477,1478,1479,1480,1481,1482,1483,1484,1485,1486,1487,1488,1489,1490,1491,1492,1493,1494,1495,1496,1497,1498,1499,1500,1501,1502,1503,1504,1505,1506,1507,1508,1509,1510,1511,1512,1513,1514,1515,1516,1517,1518,1519,1520,1521,1522,1523,1524,1525,1526,1527,1528,1529,1530,1531,1532,1533,1534,1535,1536,1537,1538,1539,1540,1541,1542,1543,1544,1545,1546,1547,1548,1549,1550,1551,1552,1553,1554,1555,1556,1557,1558,1559,1560,1561,1562,1563,1564,1565,1566,1567,1568,1569,1570,1571,1572,1573,1574,1575,1576,1577,1578,1579,1580,1581,1582,1583,1584,1585,1586,1587,1588,1589,1590,1591,1592,1593,1594,1595,1596,1597,1598,1599,1600,1601,1602,1603,1604,1605,1606,1607,1608,1609,1610,1611,1612,1613,1614,1615,1616,1617,1618,1619,1620,1621,1622,1623,1624,1625,1626,1627,1628,1629,1630,1631,1632,1633,1634,1635,1636,1637,1638,1639,1640,1641,1642,1643,1644,1645,1646,1647,1648,1649,1650,1651,1652,1653,1654,1655,1656,1657,1658,1659,1660,1661,1662,1663,1664,1665,1666,1667,1668,1669,1670,1671,1672,1673,1674,1675,1676,1677,1678,1679,1680,1681,1682,1683,1684,1685,1686,1687,1688,1689,1690,1691,1692,1693,1694,1695,1696,1697,1698,1699,1700,1701,1702,1703,1704,1705,1706,1707,1708,1709,1710,1711,1712,1713,1714,1715,1716,1717,1718,1719,1720,1721,1722,1723,1724,1725,1726,1727,1728,1729,1730,1731,1732,1733,1734,1735,1736,1737,1738,1739,1740,1741,1742,1743,1744,1745,1746,1747,1748,1749,1750,1751,1752,1753,1754,1755,1756,1757,1758,1759,1760,1761,1762,1763,1764,1765,1766,1767,1768,1769,1770,1771,1772,1773,1774,1775,1776,1777,1778,1779,1780,1781,1782,1783,1784,1785,1786,1787,1788,1789,1790,1791,1792,1793,1794,1795,1796,1797,1798,1799,1800,1801,1802,1803,1804,1805,1806,1807,1808,1809,1810,1811,1812,1813,1814,1815,1816,1817,1818,1819,1820,1821,1822,1823,1824,1825,1826,1827,1828,1829,1830,1831,1832,1833,1834,1835],\"words\":[\"cheesy\",\"rrb\",\"pretentious\",\"mess\",\"need\",\"heaven\",\"hell\",\"somewhere\",\"south\",\"blade\",\"turn\",\"every\",\"rather\",\"set\",\"please\",\"one\",\"lrb\",\"bit\",\"complex\",\"keep\",\"tries\",\"best\",\"jackson\",\"extreme\",\"urgency\",\"take\",\"long\",\"interest\",\"gone\",\"wild\",\"girls\",\"good\",\"girl\",\"little\",\"charming\",\"screen\",\"effect\",\"fantasy\",\"entirely\",\"memorable\",\"acting\",\"peter\",\"women\",\"director\",\"gives\",\"biting\",\"satire\",\"kind\",\"first\",\"ending\",\"deeper\",\"beginning\",\"would\",\"easily\",\"film\",\"brilliant\",\"crush\",\"right\",\"blue\",\"movies\",\"summer\",\"inside\",\"thriller\",\"scifi\",\"action\",\"turned\",\"movie\",\"saw\",\"kids\",\"spy\",\"great\",\"war\",\"second\",\"road\",\"win\",\"going\",\"structure\",\"pacing\",\"familiar\",\"often\",\"playing\",\"say\",\"character\",\"loud\",\"boring\",\"white\",\"two\",\"black\",\"families\",\"friend\",\"deadly\",\"sounds\",\"extended\",\"poem\",\"feels\",\"like\",\"story\",\"sexual\",\"seem\",\"genuinely\",\"feel\",\"melodrama\",\"hollywood\",\"something\",\"gag\",\"wars\",\"cliches\",\"stale\",\"street\",\"visual\",\"dialogue\",\"recent\",\"years\",\"touching\",\"script\",\"rich\",\"promise\",\"realized\",\"picture\",\"love\",\"middle\",\"clever\",\"comedy\",\"thinks\",\"crime\",\"engaging\",\"enough\",\"mark\",\"get\",\"happen\",\"finally\",\"selfconscious\",\"perhaps\",\"skin\",\"escape\",\"show\",\"make\",\"world\",\"us\",\"lee\",\"robert\",\"drive\",\"bits\",\"quite\",\"beautiful\",\"cheap\",\"documentary\",\"works\",\"still\",\"changing\",\"word\",\"children\",\"young\",\"three\",\"drama\",\"pure\",\"particular\",\"minutes\",\"10\",\"could\",\"15\",\"cut\",\"well\",\"really\",\"directed\",\"probably\",\"mystery\",\"theater\",\"way\",\"guys\",\"science\",\"consistently\",\"narrative\",\"fiction\",\"historical\",\"writing\",\"hero\",\"sight\",\"loses\",\"mind\",\"heart\",\"thoughtful\",\"list\",\"community\",\"special\",\"actors\",\"happened\",\"bad\",\"fascinating\",\"whole\",\"efforts\",\"scenes\",\"figure\",\"tragic\",\"presents\",\"terrific\",\"imagination\",\"impressive\",\"style\",\"vivid\",\"result\",\"blood\",\"never\",\"believe\",\"dreams\",\"late\",\"intentions\",\"timely\",\"ages\",\"spirit\",\"distance\",\"certainly\",\"go\",\"modern\",\"life\",\"living\",\"family\",\"audience\",\"tale\",\"suspense\",\"inspiring\",\"stylish\",\"psychological\",\"unique\",\"worth\",\"seeing\",\"recommend\",\"looked\",\"adolescent\",\"book\",\"moments\",\"intimate\",\"murphy\",\"niro\",\"de\",\"showtime\",\"day\",\"old\",\"cost\",\"looking\",\"george\",\"main\",\"characters\",\"much\",\"appeal\",\"teenagers\",\"cinema\",\"mild\",\"anything\",\"pleasure\",\"beyond\",\"watching\",\"public\",\"credits\",\"laughs\",\"come\",\"end\",\"onto\",\"wrong\",\"belly\",\"instead\",\"sort\",\"merely\",\"mr\",\"truly\",\"production\",\"score\",\"gets\",\"release\",\"quick\",\"conventional\",\"elements\",\"amusing\",\"interested\",\"almost\",\"entertaining\",\"worst\",\"perfect\",\"many\",\"made\",\"child\",\"running\",\"time\",\"dvd\",\"used\",\"funnier\",\"released\",\"feature\",\"thick\",\"money\",\"discovery\",\"god\",\"endeavor\",\"dance\",\"last\",\"affection\",\"makes\",\"fails\",\"original\",\"soundtrack\",\"offer\",\"break\",\"actress\",\"exercise\",\"big\",\"son\",\"moment\",\"trying\",\"becomes\",\"process\",\"care\",\"understand\",\"fashion\",\"actually\",\"third\",\"absorbing\",\"earth\",\"left\",\"know\",\"shadows\",\"another\",\"delightful\",\"hand\",\"night\",\"man\",\"fans\",\"boys\",\"teenage\",\"remains\",\"thoughtprovoking\",\"creative\",\"levels\",\"number\",\"making\",\"james\",\"bond\",\"attention\",\"exquisite\",\"people\",\"expect\",\"fairly\",\"study\",\"whose\",\"less\",\"revealing\",\"lazy\",\"seat\",\"even\",\"seven\",\"couple\",\"times\",\"give\",\"leave\",\"feeling\",\"though\",\"surprises\",\"plot\",\"weeks\",\"new\",\"christmas\",\"dry\",\"close\",\"level\",\"seen\",\"nt\",\"films\",\"intelligence\",\"video\",\"debut\",\"particularly\",\"fine\",\"job\",\"wit\",\"age\",\"weight\",\"dream\",\"disney\",\"wish\",\"easy\",\"welcome\",\"piece\",\"intellectual\",\"work\",\"nothing\",\"provocative\",\"unpleasant\",\"acted\",\"given\",\"storytelling\",\"mostly\",\"dead\",\"see\",\"wait\",\"television\",\"free\",\"universal\",\"hearts\",\"sure\",\"viewers\",\"bizarre\",\"seagal\",\"steven\",\"paul\",\"always\",\"secrets\",\"truth\",\"pictures\",\"yaya\",\"refreshing\",\"high\",\"images\",\"wonderful\",\"party\",\"effects\",\"grant\",\"yet\",\"cross\",\"pair\",\"line\",\"wellmeaning\",\"material\",\"afterschool\",\"cast\",\"sense\",\"stand\",\"may\",\"tired\",\"lowbudget\",\"plodding\",\"handful\",\"bmovie\",\"frame\",\"central\",\"previous\",\"solondz\",\"creates\",\"strength\",\"john\",\"visceral\",\"honest\",\"planet\",\"men\",\"behind\",\"rarely\",\"silly\",\"grossout\",\"imagine\",\"ride\",\"latest\",\"increasingly\",\"star\",\"went\",\"slight\",\"home\",\"goes\",\"ripoff\",\"twice\",\"rare\",\"leaden\",\"problems\",\"quality\",\"exactly\",\"happening\",\"offers\",\"animation\",\"literary\",\"wo\",\"emotional\",\"absolutely\",\"things\",\"proves\",\"villain\",\"stories\",\"horrible\",\"entertainment\",\"thrills\",\"sincere\",\"rest\",\"indian\",\"culture\",\"seriously\",\"takes\",\"basic\",\"keeps\",\"emotions\",\"premise\",\"year\",\"engaged\",\"analyze\",\"politics\",\"try\",\"sometimes\",\"ways\",\"balance\",\"unexpected\",\"results\",\"editing\",\"without\",\"filmmaker\",\"flashy\",\"simplistic\",\"filmmaking\",\"spark\",\"delicate\",\"text\",\"simple\",\"tortured\",\"husband\",\"painful\",\"utterly\",\"exploration\",\"serious\",\"fun\",\"laugh\",\"realize\",\"intrigue\",\"plays\",\"hip\",\"death\",\"holocaust\",\"american\",\"better\",\"written\",\"poignancy\",\"necessary\",\"achieves\",\"grandeur\",\"goofy\",\"michael\",\"completely\",\"iranian\",\"awful\",\"faithful\",\"predecessor\",\"surprisingly\",\"chilly\",\"remake\",\"mildly\",\"sentimental\",\"idea\",\"found\",\"believable\",\"tension\",\"blair\",\"inspired\",\"witch\",\"raw\",\"allen\",\"think\",\"hope\",\"follow\",\"twists\",\"derivative\",\"subtle\",\"political\",\"issues\",\"directors\",\"waste\",\"major\",\"generic\",\"superior\",\"otherwise\",\"challenging\",\"soul\",\"around\",\"let\",\"real\",\"somewhat\",\"predictable\",\"days\",\"glory\",\"killer\",\"era\",\"certain\",\"typical\",\"realism\",\"thoroughly\",\"matinee\",\"social\",\"commentary\",\"cynical\",\"faith\",\"nature\",\"compassion\",\"forget\",\"dawson\",\"problem\",\"college\",\"approach\",\"maudlin\",\"reach\",\"solid\",\"performances\",\"devastating\",\"away\",\"offensive\",\"heavyhanded\",\"dark\",\"humanity\",\"gripping\",\"fatal\",\"tedious\",\"rendered\",\"failure\",\"dramatic\",\"examination\",\"frightening\",\"powerful\",\"look\",\"succeeds\",\"justice\",\"interesting\",\"tv\",\"darker\",\"side\",\"art\",\"part\",\"artist\",\"filmmakers\",\"nearly\",\"portrait\",\"thing\",\"outrageous\",\"kissinger\",\"everyone\",\"mile\",\"deep\",\"sex\",\"master\",\"told\",\"stop\",\"moviegoers\",\"burns\",\"future\",\"ahead\",\"bright\",\"shot\",\"back\",\"insights\",\"already\",\"likely\",\"relatively\",\"excess\",\"total\",\"lot\",\"exhilarating\",\"hard\",\"smile\",\"words\",\"channel\",\"despair\",\"filled\",\"human\",\"slow\",\"avoid\",\"value\",\"find\",\"dysfunctional\",\"school\",\"place\",\"taken\",\"music\",\"inventive\",\"screenplay\",\"mesmerizing\",\"incredibly\",\"usually\",\"depressing\",\"depth\",\"skill\",\"actor\",\"possibly\",\"today\",\"working\",\"marriage\",\"tradition\",\"called\",\"project\",\"poetry\",\"sustain\",\"help\",\"ambitious\",\"provides\",\"answers\",\"tribute\",\"romantic\",\"pretty\",\"message\",\"lifeaffirming\",\"festival\",\"themes\",\"viewer\",\"courage\",\"dedication\",\"common\",\"seems\",\"cinematic\",\"ms\",\"wacky\",\"plain\",\"proceedings\",\"insightful\",\"successful\",\"looks\",\"crowd\",\"credit\",\"events\",\"funny\",\"oddly\",\"moving\",\"halfway\",\"connect\",\"endearing\",\"devoid\",\"humor\",\"listless\",\"foreign\",\"performance\",\"force\",\"might\",\"knowing\",\"definitely\",\"four\",\"ideas\",\"either\",\"thin\",\"soon\",\"grows\",\"room\",\"history\",\"slice\",\"brothers\",\"small\",\"sea\",\"sum\",\"journey\",\"machine\",\"smart\",\"visually\",\"conviction\",\"gags\",\"sick\",\"protagonist\",\"true\",\"queen\",\"onscreen\",\"together\",\"italian\",\"bitter\",\"ago\",\"meditation\",\"beautifully\",\"execution\",\"awkward\",\"effort\",\"lots\",\"green\",\"brown\",\"date\",\"natural\",\"difficult\",\"frustrating\",\"sports\",\"sour\",\"mainstream\",\"performers\",\"red\",\"head\",\"atmosphere\",\"murky\",\"payoff\",\"highly\",\"greatest\",\"put\",\"enjoy\",\"whether\",\"admire\",\"ask\",\"watch\",\"directing\",\"ever\",\"obvious\",\"involved\",\"turns\",\"sweet\",\"enjoyable\",\"philosophical\",\"coming\",\"witty\",\"artistic\",\"ludicrous\",\"thought\",\"fresh\",\"inept\",\"anyone\",\"rock\",\"face\",\"straight\",\"also\",\"numbers\",\"triangle\",\"spooky\",\"leaves\",\"painfully\",\"eventually\",\"cool\",\"computer\",\"theaters\",\"opera\",\"genre\",\"cultural\",\"across\",\"move\",\"lines\",\"bunch\",\"father\",\"house\",\"path\",\"got\",\"substance\",\"business\",\"usual\",\"occasionally\",\"stars\",\"far\",\"wanted\",\"liked\",\"capable\",\"spielberg\",\"trademark\",\"become\",\"power\",\"adaptation\",\"concept\",\"impact\",\"joke\",\"smarter\",\"horror\",\"designed\",\"unnecessary\",\"sequence\",\"energy\",\"done\",\"everything\",\"else\",\"captures\",\"period\",\"anne\",\"novel\",\"dog\",\"chan\",\"beauty\",\"warm\",\"animal\",\"sophisticated\",\"national\",\"created\",\"deal\",\"various\",\"mixture\",\"sharp\",\"adventure\",\"treat\",\"title\",\"exciting\",\"badly\",\"fire\",\"reign\",\"popcorn\",\"jokes\",\"older\",\"want\",\"friday\",\"screenwriter\",\"zone\",\"reasonably\",\"desperation\",\"lost\",\"subtlety\",\"target\",\"five\",\"dish\",\"terrible\",\"banal\",\"insight\",\"vital\",\"comic\",\"share\",\"king\",\"drag\",\"standard\",\"possible\",\"authentic\",\"starts\",\"ends\",\"impossible\",\"budget\",\"experience\",\"aspects\",\"passion\",\"police\",\"remarkable\",\"hours\",\"grace\",\"tender\",\"unsettling\",\"emotionally\",\"manipulative\",\"subjects\",\"plenty\",\"suffers\",\"masterpiece\",\"wilde\",\"elegant\",\"play\",\"sell\",\"direction\",\"gifted\",\"detail\",\"holds\",\"change\",\"sides\",\"speaking\",\"mediocre\",\"needed\",\"view\",\"eye\",\"trip\",\"half\",\"sexy\",\"woman\",\"event\",\"audiences\",\"extremely\",\"hour\",\"resonance\",\"davis\",\"suffering\",\"news\",\"personal\",\"frustration\",\"lady\",\"grab\",\"comfortable\",\"question\",\"pieces\",\"brings\",\"rhythms\",\"relationships\",\"motion\",\"getting\",\"meandering\",\"paced\",\"dull\",\"contemporary\",\"society\",\"indie\",\"writerdirector\",\"impression\",\"huge\",\"trek\",\"grief\",\"artificial\",\"revenge\",\"chase\",\"strong\",\"type\",\"perfectly\",\"bland\",\"utter\",\"success\",\"french\",\"source\",\"lovely\",\"beneath\",\"upon\",\"stuff\",\"stage\",\"broad\",\"record\",\"general\",\"vision\",\"live\",\"ones\",\"final\",\"pointless\",\"trouble\",\"essentially\",\"deserve\",\"hit\",\"modest\",\"standards\",\"formula\",\"presence\",\"comedies\",\"shows\",\"ultimately\",\"pat\",\"intelligent\",\"wellmade\",\"b\",\"spirits\",\"flicks\",\"romance\",\"stuck\",\"situation\",\"combination\",\"mindless\",\"violence\",\"glimpse\",\"save\",\"parents\",\"nasty\",\"genuine\",\"wants\",\"matter\",\"fantastic\",\"flaws\",\"forgive\",\"quiet\",\"sequences\",\"energetic\",\"moral\",\"ca\",\"mood\",\"center\",\"near\",\"fake\",\"blank\",\"thinking\",\"person\",\"tom\",\"inner\",\"point\",\"lack\",\"imaginative\",\"holiday\",\"sad\",\"fare\",\"surprising\",\"flair\",\"manages\",\"fan\",\"barely\",\"cartoon\",\"city\",\"played\",\"values\",\"appealing\",\"blend\",\"past\",\"tragedy\",\"broken\",\"lives\",\"meaning\",\"wry\",\"winning\",\"finish\",\"theatre\",\"talent\",\"act\",\"evil\",\"mixed\",\"urban\",\"class\",\"stock\",\"lacks\",\"full\",\"case\",\"spent\",\"credible\",\"touch\",\"superb\",\"viewing\",\"compelling\",\"shake\",\"spend\",\"teen\",\"wasted\",\"frequently\",\"clearly\",\"minor\",\"deserves\",\"lousy\",\"hate\",\"series\",\"string\",\"industry\",\"territory\",\"tear\",\"apart\",\"virtually\",\"dreary\",\"unusual\",\"stunning\",\"top\",\"stomach\",\"drug\",\"happiness\",\"waiting\",\"willing\",\"bottom\",\"reason\",\"especially\",\"call\",\"purpose\",\"clear\",\"sensitive\",\"quietly\",\"intended\",\"endless\",\"worthwhile\",\"episode\",\"involving\",\"adult\",\"lacking\",\"edge\",\"expected\",\"members\",\"studio\",\"needs\",\"development\",\"excellent\",\"overcome\",\"logic\",\"games\",\"season\",\"thousands\",\"uneven\",\"brain\",\"flick\",\"shocking\",\"talking\",\"imax\",\"potentially\",\"stay\",\"dealing\",\"despite\",\"light\",\"oldfashioned\",\"create\",\"finding\",\"monster\",\"martin\",\"supposed\",\"add\",\"wedding\",\"loss\",\"use\",\"yarn\",\"considerable\",\"different\",\"promising\",\"ugly\",\"behavior\",\"ii\",\"routine\",\"irritating\",\"hilarious\",\"quirky\",\"whatever\",\"soldiers\",\"british\",\"present\",\"conflict\",\"pass\",\"shoot\",\"killed\",\"generation\",\"fall\",\"single\",\"company\",\"serves\",\"creation\",\"afraid\",\"dumb\",\"must\",\"indeed\",\"variety\",\"tells\",\"charm\",\"mother\",\"detailed\",\"convincing\",\"deeply\",\"evocative\",\"notice\",\"worse\",\"spears\",\"soap\",\"chaotic\",\"demands\",\"bother\",\"overall\",\"camera\",\"understanding\",\"washington\",\"epic\",\"kid\",\"tone\",\"finds\",\"start\",\"hiphop\",\"comes\",\"gentle\",\"amateurish\",\"boy\",\"footage\",\"mere\",\"excuse\",\"homage\",\"product\",\"group\",\"hands\",\"missing\",\"chemistry\",\"tell\",\"guilty\",\"giving\",\"2002\",\"subject\",\"hardly\",\"complicated\",\"cold\",\"york\",\"nicely\",\"plotting\",\"monty\",\"nice\",\"pace\",\"sequels\",\"chilling\",\"female\",\"condition\",\"potential\",\"sympathy\",\"ultimate\",\"taste\",\"crazy\",\"space\",\"run\",\"sentimentality\",\"flawed\",\"lame\",\"contrived\",\"desire\",\"cause\",\"damage\",\"wildly\",\"step\",\"stupid\",\"cute\",\"americans\",\"slapstick\",\"unfunny\",\"sets\",\"effective\",\"fast\",\"knows\",\"engrossing\",\"extraordinary\",\"actresses\",\"worked\",\"90\",\"setting\",\"ambition\",\"tiresome\",\"developed\",\"forced\",\"traditional\",\"laughter\",\"amazing\",\"puts\",\"guns\",\"fear\",\"hoffman\",\"comingofage\",\"amount\",\"among\",\"opening\",\"kiddie\",\"runs\",\"theatrical\",\"memories\",\"provide\",\"humorous\",\"formulaic\",\"vs\",\"powers\",\"battle\",\"heartwarming\",\"ensemble\",\"sandler\",\"places\",\"able\",\"office\",\"assured\",\"weak\",\"unlikely\",\"friendship\",\"observations\",\"shame\",\"knowledge\",\"least\",\"metaphor\",\"reallife\",\"uses\",\"questions\",\"comedic\",\"talents\",\"ability\",\"victims\",\"eyes\",\"satirical\",\"supporting\",\"talented\",\"heavy\",\"open\",\"reveals\",\"band\",\"melodramatic\",\"animated\",\"adam\",\"loved\",\"strange\",\"slightly\",\"satisfying\",\"odd\",\"hackneyed\",\"equally\",\"identity\",\"chris\",\"graphic\",\"funniest\",\"apparent\",\"franchise\",\"innocence\",\"rowdy\",\"endlessly\",\"shallow\",\"bittersweet\",\"rush\",\"longer\",\"sit\",\"lead\",\"firstrate\",\"details\",\"fact\",\"core\",\"sloppy\",\"intense\",\"manner\",\"imagery\",\"heartfelt\",\"since\",\"game\",\"dangerous\",\"theme\",\"surprise\",\"based\",\"body\",\"along\",\"gradually\",\"conclusion\",\"low\",\"absurd\",\"somber\",\"role\",\"faster\",\"irish\",\"shots\",\"growing\",\"brought\",\"bring\",\"paid\",\"wife\",\"pull\",\"damned\",\"appears\",\"david\",\"decent\",\"makers\",\"poorly\",\"cinematography\",\"memory\",\"heard\",\"country\",\"others\",\"roll\",\"happy\",\"refusal\",\"repetitive\",\"affair\",\"choppy\",\"telling\",\"count\",\"creepy\",\"admirable\",\"perspective\",\"adults\",\"diverting\",\"williams\",\"confusing\",\"treatment\",\"merit\",\"superficial\",\"attempt\",\"flat\",\"roles\",\"precious\",\"handsome\",\"elaborate\",\"fully\",\"musical\",\"murder\",\"20\",\"spell\",\"neither\",\"sappy\",\"colorful\",\"creating\",\"document\",\"brutally\",\"appreciate\",\"trick\",\"sheer\",\"pain\",\"bullock\",\"sand\",\"important\",\"fate\",\"explore\",\"technology\",\"wave\",\"maybe\",\"none\",\"decades\",\"delivered\",\"striking\",\"spectacle\",\"notion\",\"totally\",\"happens\",\"friends\",\"falls\",\"lived\",\"ordinary\",\"intensity\",\"features\",\"startling\",\"tough\",\"deliver\",\"saturday\",\"morning\",\"pack\",\"simply\",\"fancy\",\"em\",\"strangely\",\"camp\",\"fit\",\"respectable\",\"alone\",\"served\",\"throughout\",\"reno\",\"state\",\"gorgeous\",\"directorial\",\"career\",\"humour\",\"category\",\"overwrought\",\"watchable\",\"situations\",\"sequel\",\"japanese\",\"intriguing\",\"delivers\",\"magic\",\"storyline\",\"poetic\",\"x\",\"gay\",\"next\",\"realistic\",\"pathetic\",\"carried\",\"fat\",\"greek\",\"collection\",\"casting\",\"spare\",\"sound\",\"depiction\",\"complete\",\"niche\",\"farce\",\"air\",\"delight\",\"riveting\",\"frida\",\"disaster\",\"bears\",\"scene\",\"water\",\"marks\",\"century\",\"classic\",\"oscar\",\"crude\",\"quirks\",\"experiences\",\"excitement\",\"cautionary\",\"kevin\",\"scorsese\",\"lesson\",\"pay\",\"rental\",\"price\",\"ticket\",\"glass\",\"shock\",\"crimes\",\"curiosity\",\"biopic\",\"empty\",\"warmth\",\"window\",\"annoying\",\"race\",\"kaufman\",\"average\",\"hold\",\"vehicle\",\"hopeful\",\"choose\",\"essence\",\"bite\",\"roots\",\"read\",\"version\",\"short\",\"course\",\"weird\",\"terrifying\",\"form\",\"j\",\"propaganda\",\"america\",\"nowhere\",\"generally\",\"pop\",\"begins\",\"screenwriting\",\"equivalent\",\"manhattan\",\"overly\",\"standup\",\"mix\",\"car\",\"hair\",\"refreshingly\",\"con\",\"beat\",\"frank\",\"fill\",\"stereotypes\",\"wannabe\",\"attraction\",\"odds\",\"delivery\",\"buoyant\",\"favor\",\"originality\",\"haunting\",\"dirty\",\"contrivances\",\"guess\",\"degree\",\"somehow\",\"ice\",\"quickly\",\"downright\",\"remember\",\"walk\",\"ground\",\"filmed\",\"ridiculous\",\"cloying\",\"sitcom\",\"triumph\",\"offering\",\"entire\",\"concerned\",\"except\",\"neat\",\"snow\",\"dogs\",\"surface\",\"song\",\"reality\",\"fisher\",\"false\",\"movements\",\"overthetop\",\"undeniably\",\"strain\",\"persona\",\"songs\",\"simultaneously\",\"forgettable\",\"guy\",\"mean\",\"showing\",\"books\",\"resist\",\"fight\",\"brother\",\"britney\",\"choices\",\"attractive\",\"pleasant\",\"reading\",\"mention\",\"acts\",\"hong\",\"kong\",\"straightforward\",\"twist\",\"portrayal\",\"positive\",\"miss\",\"schneider\",\"poor\",\"earnest\",\"hits\",\"poignant\",\"prove\",\"taking\",\"cell\",\"relationship\",\"remarkably\",\"joy\",\"belt\",\"doubt\",\"twisted\",\"within\",\"yes\",\"scary\",\"cult\",\"area\",\"landscape\",\"van\",\"digital\",\"nightmare\",\"mayhem\",\"empathy\",\"gritty\",\"9\",\"revolution\",\"carries\",\"70s\",\"name\",\"worthy\",\"violent\",\"week\",\"said\",\"means\",\"commercial\",\"service\",\"lowkey\",\"attempts\",\"several\",\"references\",\"sitting\",\"visuals\",\"warning\",\"term\",\"forgotten\",\"pinocchio\",\"suspenseful\",\"crisis\",\"buy\",\"angst\",\"folks\",\"retread\",\"daring\",\"sake\",\"tears\",\"playful\",\"cliched\",\"determined\",\"writer\",\"inspiration\",\"voice\",\"someone\",\"bleak\",\"abstract\",\"quest\",\"larger\",\"match\",\"largely\",\"represents\",\"thanks\",\"fair\",\"wonder\",\"toward\",\"bag\",\"fish\",\"shooting\",\"lawrence\",\"soderbergh\",\"dignity\",\"minute\",\"large\",\"inevitable\",\"appear\",\"color\",\"starring\",\"holes\",\"giant\",\"felt\",\"messages\",\"spiritual\",\"fears\",\"noir\",\"desperate\",\"male\",\"moves\",\"horrifying\",\"moviemaking\",\"outside\",\"emotion\",\"gangster\",\"disappointing\",\"richard\",\"treasure\",\"table\",\"respect\",\"cliche\",\"creativity\",\"opportunity\",\"offbeat\",\"benigni\",\"die\",\"parts\",\"madness\",\"wonderfully\",\"heartbreaking\",\"allows\",\"park\",\"bore\",\"sign\",\"fantasies\",\"feelgood\",\"relies\",\"terms\",\"tiny\",\"vulgar\",\"started\",\"signs\",\"missed\",\"communal\",\"nostalgia\",\"delights\",\"clarity\",\"candy\",\"crisp\",\"struggle\",\"jack\",\"ryan\",\"food\",\"phones\",\"sentiment\",\"grow\",\"front\",\"justify\",\"accessible\",\"limited\",\"screaming\",\"points\",\"younger\",\"moviegoing\",\"wise\",\"profound\",\"cruel\",\"broomfield\",\"alive\",\"harry\",\"mouth\",\"charms\",\"rhythm\",\"sadness\",\"chinese\",\"team\",\"crafted\",\"ghost\",\"hot\",\"length\",\"charisma\",\"early\",\"vampire\",\"roger\",\"eccentric\",\"personality\",\"2\",\"content\",\"corner\",\"english\",\"players\",\"chance\",\"jones\",\"remain\",\"affecting\",\"check\",\"pulls\",\"leads\",\"woo\",\"produced\",\"pick\",\"including\",\"leaving\",\"however\",\"lyrical\",\"dazzling\",\"grand\",\"finale\",\"achievement\",\"harmless\",\"although\",\"lets\",\"saying\",\"meaningful\",\"unfaithful\"],\"x\":{\"__ndarray__\":\"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\",\"dtype\":\"float32\",\"shape\":[1836]},\"y\":{\"__ndarray__\":\"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\",\"dtype\":\"float32\",\"shape\":[1836]}}},\"id\":\"ea24a03b-5e39-44d0-84c1-af81d133f821\",\"type\":\"ColumnDataSource\"},{\"attributes\":{\"callback\":null,\"tooltips\":[[\"word\",\"@words\"]]},\"id\":\"6586c1ef-741b-4b90-9e41-1aaf7e98f9a1\",\"type\":\"HoverTool\"}],\"root_ids\":[\"a6472eb7-59ea-4baf-8ee1-0ed9e82fd088\"]},\"title\":\"Bokeh Application\",\"version\":\"0.12.13\"}};\n",
       "  var render_items = [{\"docid\":\"379c4cde-6f82-4da5-8230-5596d9d40100\",\"elementid\":\"cbbfeaee-e99f-4363-9a81-1dcd2e4387db\",\"modelid\":\"a6472eb7-59ea-4baf-8ee1-0ed9e82fd088\"}];\n",
       "  root.Bokeh.embed.embed_items_notebook(docs_json, render_items);\n",
       "\n",
       "  }\n",
       "  if (root.Bokeh !== undefined) {\n",
       "    embed_document(root);\n",
       "  } else {\n",
       "    var attempts = 0;\n",
       "    var timer = setInterval(function(root) {\n",
       "      if (root.Bokeh !== undefined) {\n",
       "        embed_document(root);\n",
       "        clearInterval(timer);\n",
       "      }\n",
       "      attempts++;\n",
       "      if (attempts > 100) {\n",
       "        console.log(\"Bokeh: ERROR: Unable to run BokehJS code because BokehJS library is missing\")\n",
       "        clearInterval(timer);\n",
       "      }\n",
       "    }, 10, root)\n",
       "  }\n",
       "})(window);"
      ],
      "application/vnd.bokehjs_exec.v0+json": ""
     },
     "metadata": {
      "application/vnd.bokehjs_exec.v0+json": {
       "id": "a6472eb7-59ea-4baf-8ee1-0ed9e82fd088"
      }
     },
     "output_type": "display_data"
    }
   ],
   "source": [
    "plot_tSNE(model)"
   ]
  },
  {
   "cell_type": "markdown",
   "metadata": {},
   "source": [
    "# Unsupervised Learning approach"
   ]
  },
  {
   "cell_type": "markdown",
   "metadata": {},
   "source": [
    "### Determining number of clusters - Elbow Rule\n",
    "###### When K increases, the centroids are closer to the clusters centroids."
   ]
  },
  {
   "cell_type": "code",
   "execution_count": null,
   "metadata": {},
   "outputs": [
    {
     "name": "stdout",
     "output_type": "stream",
     "text": [
      "Training K-means models for 1 cluster/s...\n"
     ]
    }
   ],
   "source": [
    "# k means determine k\n",
    "distortions = []\n",
    "max_nb_cluster = 10\n",
    "for k in range(1,max_nb_cluster):\n",
    "    print('Training K-means models for {} cluster/s...'.format(k))\n",
    "    kmeanModel = KMeans(n_clusters=k).fit(f_matrix_train)\n",
    "    kmeanModel.fit(f_matrix_train)\n",
    "    distortions.append(sum(np.min(cdist(f_matrix_train, kmeanModel.cluster_centers_, 'euclidean'), axis=1)) / f_matrix_train.shape[0])"
   ]
  },
  {
   "cell_type": "code",
   "execution_count": null,
   "metadata": {},
   "outputs": [],
   "source": [
    "# Plot the elbow\n",
    "plt.figure(figsize=(10,5))\n",
    "plt.plot(range(1,max_nb_cluster), distortions, 'bx-')\n",
    "plt.xlabel('k')\n",
    "plt.ylabel('Distortion')\n",
    "plt.title('Elbow Method')\n",
    "plt.show()"
   ]
  },
  {
   "cell_type": "code",
   "execution_count": 73,
   "metadata": {},
   "outputs": [
    {
     "name": "stdout",
     "output_type": "stream",
     "text": [
      "Trainning K-Means...\n",
      "K-Means - Accuracy:0.259003\n"
     ]
    }
   ],
   "source": [
    "num_clusters = 5\n",
    "kmeans = KMeans(n_clusters=num_clusters)\n",
    "print('Trainning K-Means...')\n",
    "\n",
    "kmeans.fit(f_matrix_train, y_train)\n",
    "\n",
    "score = metrics.accuracy_score(y_valid,kmeans.predict(f_matrix_valid))\n",
    "print('K-Means - Accuracy:{0:f}'.format(score))"
   ]
  },
  {
   "cell_type": "code",
   "execution_count": 52,
   "metadata": {},
   "outputs": [
    {
     "name": "stdout",
     "output_type": "stream",
     "text": [
      "Time taken for K Means clustering:  0.2555806636810303 seconds.\n",
      "\n",
      "Cluster 0\n",
      "['story', 'lrb', 'good', 'much', 'comedy', 'funny', 'many', 'best', 'two', 'plot', 'look', 'really', 'get', 'ever', 'performances', 'still', 'might', 'old', 'moments', 'interesting', 'original', 'material', 'thriller', 'actors', 'take', 'times', 'romantic', 'watching', 'ca', 'bit', 'point', 'care', 'sweet', 'fans', 'entertainment', 'need', 'direction', 'true', 'familiar', 'together', 'anyone', 'fascinating', 'laughs', 'children', 'whose', 'part', 'looking', 'narrative', 'culture', 'premise', 'book', 'especially', 'modern', 'high', 'always', 'goes', 'obvious', 'powerful', 'predictable', 'classic', 'black', 'intelligent', 'version', 'feeling', 'reason', 'line', 'ideas', 'fine', 'audiences', 'serious', 'storytelling', 'wo', 'tragedy', 'complex', 'deeply', 'reality', 'looks', 'satisfying', 'sure', 'sex', 'passion', 'fairly', 'memorable', 'boring', 'slow', 'mystery', 'game', 'attempt', 'concept', 'period', 'found', 'given', 'simple', 'working', 'taste', 'remarkable', 'guys', 'parents', 'cheap', 'change', 'earnest', 'scary', 'second', 'told', 'ambitious', 'pace', 'sit', 'wonderful', 'relationship', 'latest', 'brilliant', 'appeal', 'guy', 'cut', 'used', 'school', 'room', 'barely', 'episode', 'city', 'nice', 'cultural', 'needs', 'pieces', 'hand', 'british', 'falls', 'truth', 'loud', '90', 'rest', 'throughout', 'era', 'cartoon', 'skin', 'living', 'sharp', 'start', 'low', 'offer', 'impact', 'quiet', 'actress', 'wanted', 'places', 'humanity', 'engrossing', 'television', 'plain', 'starts', 'points', 'spielberg', 'worthy', 'seat', 'major', 'twists', 'edge', 'comingofage', 'universal', 'sensitive', 'brain', 'colorful', 'perspective', 'pay', 'monster', 'writer', 'utterly', 'surprise', 'witty', 'particular', 'steven', 'usually', 'hope', 'chan', 'mother', 'damned', 'winning', 'routine', 'forced', 'grant', 'forget', 'definitely', 'mindless', 'holiday', 'release', 'greatest', 'extreme', 'reveals', 'chemistry', 'poorly', 'happy', 'blade', 'depressing', 'apart', 'favor', 'although', 'lots', 'decades', 'niro', 'performers', 'green', 'giving', 'hackneyed', 'based', 'except', 'question', 'motion', 'step', 'growing', 'served', 'philosophical', 'sequence', 'course', 'add', 'simplistic', 'theme', 'jackson', 'james', 'failure', 'guilty', 'formulaic', 'details', 'worthwhile', 'sequels', 'suffers', 'comedic', 'empty', 'persona', 'front', 'b', 'empathy', 'late', 'glory', 'forgettable', 'male', 'broken', 'runs', 'bullock', 'frequently', 'move', 'animal', 'credits', 'son', 'free', 'fare', 'totally', 'god', 'machine', 'mixed', 'weak', 'humour', 'water', 'noir', 'leads', 'however', 'teenage', 'spark', 'energetic', 'stunning', 'chilling', 'treasure', 'solondz', 'potentially', 'appears', 'kevin', 'hearts', 'traditional', 'heard', 'fast', 'guns', 'intensity', 'folks', 'deadly', 'released', 'wacky', 'proceedings', 'genuinely', 'horrible', 'tender', 'homage', 'team', 'thinks', 'blair', 'repetitive', 'blue', 'cynical', 'ask', 'treat', 'finish', 'notice', 'mere', 'wonderfully', 'fatal', 'path', 'near', 'benigni', 'comfortable', 'paid', 'vulgar', 'profound', 'consistently', 'weight', 'wilde', 'pat', 'planet', 'bite', 'effect', 'weeks', 'literary', 'amateurish', 'roles', 'wave', 'lyrical', 'blood', 'holocaust', 'darker', 'endless', 'confusing', 'distance', 'subtlety', 'fill', 'poignancy', 'compassion', 'friends', 'kaufman', 'mouth', 'flashy', 'lifeaffirming', 'bittersweet', 'firstrate', 'gradually', 'absurd', 'fate', 'quirks', 'books', 'sake', 'charms', 'discovery', 'halfway', 'resonance', 'younger', 'dedication', 'cautionary', 'race', 'neat', 'suspenseful', 'creativity', 'paul', 'grab', 'merit', 'buoyant', 'tears', 'crush', 'sell', 'thousands', 'loved', 'handsome', 'dignity', 'harmless', 'stomach', 'theatrical', 'quest', 'friend', 'heavyhanded', 'anne', 'elaborate', 'startling', 'window', 'propaganda', 'showing', 'gritty', 'crisis']\n",
      "\n",
      "Cluster 1\n",
      "['film', 'nt', 'one', 'rrb', 'even', 'little', 'life', 'make', 'love', 'enough', 'new', 'something', 'would', 'people', 'may', 'character', 'action', 'audience', 'world', 'sense', 'great', 'humor', 'minutes', 'feel', 'another', 'real', 'big', 'cast', 'fun', 'man', 'screen', 'kind', 'far', 'also', 'family', 'script', 'acting', 'watch', 'young', 'almost', 'back', 'cinema', 'quite', 'full', 'music', 'picture', 'right', 'tale', 'lot', 'seems', 'documentary', 'subject', 'going', 'anything', 'making', 'dark', 'feels', 'special', 'though', 'visual', 'least', 'takes', 'compelling', 'works', 'last', 'keep', 'style', 'say', 'show', 'pretty', 'three', 'gets', 'matter', 'genre', 'flick', 'lives', 'dull', 'moving', 'clever', 'gives', 'idea', 'set', 'screenplay', 'series', 'trying', 'face', 'whole', 'title', 'done', 'tv', 'since', 'easy', 'effects', 'simply', 'dramatic', 'summer', 'everything', 'enjoyable', 'filmmakers', 'strong', 'study', 'light', 'tone', 'past', 'next', 'amusing', 'instead', 'beautiful', 'worst', 'stories', 'mr', 'romance', 'quirky', 'probably', 'intelligence', 'melodrama', 'exercise', 'offers', 'head', 'sort', 'rich', 'debut', 'small', 'truly', 'hour', 'despite', 'ways', 'suspense', 'death', 'project', 'personal', 'left', 'likely', 'else', 'beyond', 'believe', 'lack', 'already', 'fresh', 'ending', 'de', 'eyes', 'solid', 'different', 'becomes', 'particularly', 'seeing', 'plays', 'images', 'written', 'gags', 'turns', 'directed', 'perfect', 'completely', 'viewer', 'along', 'dumb', 'boy', 'intriguing', 'imagination', 'girl', 'viewers', 'thought', 'comedies', 'days', 'easily', 'historical', 'flat', 'ride', 'nature', 'laugh', 'sequences', 'crime', 'wrong', 'adventure', 'pleasure', 'beauty', 'formula', 'hilarious', 'writing', 'beautifully', 'final', 'production', 'emotions', 'hero', 'moment', 'michael', 'stand', 'strange', 'relationships', 'call', 'fact', 'attention', 'lacks', 'close', 'proves', 'issues', 'approach', 'emotionally', 'creepy', 'usual', 'touching', 'ii', 'visually', 'run', 'fails', 'lost', 'case', 'none', 'thin', 'cool', 'ends', 'writerdirector', 'four', 'must', 'middle', 'quality', 'gorgeous', 'pictures', 'got', 'teen', 'lead', 'finally', 'mostly', 'themes', 'rock', 'novel', 'single', 'neither', 'sentimental', 'gentle', 'disney', 'creative', 'mess', 'terrific', 'job', 'success', 'ones', 'occasionally', 'class', 'scifi', 'thoughtful', 'road', 'flawed', 'decent', 'important', 'straight', 'genuine', 'surprising', 'appealing', 'oldfashioned', 'hit', 'flaws', 'female', 'robert', 'thinking', 'able', 'fully', 'business', 'company', 'manner', 'warm', 'contemporary', 'several', 'journey', 'purpose', 'stupid', 'hold', 'entire', 'mediocre', 'air', 'today', 'adaptation', 'others', 'age', 'awful', 'kid', 'country', 'spy', 'playing', 'tragic', 'unique', 'imagine', 'problems', 'target', 'situations', 'felt', 'understand', 'remake', 'battle', 'money', 'dry', 'across', 'excellent', 'exactly', 'keeps', 'uses', 'stylish', 'highly', 'magic', 'master', 'coming', 'promise', 'frame', 'taken', 'conclusion', 'worse', 'lovely', 'flicks', 'crazy', 'car', 'let', 'successful', 'create', 'shots', 'surprises', 'huge', 'tom', 'name', 'impressive', 'interested', 'delightful', 'queen', 'pacing', 'bizarre', 'considerable', 'subtle', 'force', 'cause', 'sincere', 'slapstick', 'slightly', 'equally', 'south', 'hell', 'acted', 'upon', 'telling', 'maybe', 'delivers', 'stars', 'five', 'spiritual', 'party', 'grossout', 'slight', 'deserves', 'main', 'poetry', 'weird', 'break', 'intrigue', 'cute', 'read', 'conventional', 'soundtrack', 'provocative', 'faith', 'lacking', 'puts', 'white', 'festival', 'meditation', 'extremely', 'product', 'franchise', 'brothers', 'artistic', 'boys', 'twice', 'challenging', 'sexy', 'imax', 'wife', 'inspired', 'endearing', 'deal', 'members', 'setting', 'shallow', 'dreams', 'politics', 'exciting', 'sandler', 'melodramatic', 'wonder', 'older', 'terrible', 'fiction', 'generic', 'drag', 'poetic', 'recommend', 'public', 'indie', 'body', 'complete', 'begins', 'heaven', 'king', 'third', 'sea', 'conviction', 'martin', 'storyline', 'value', 'general', 'clearly', 'industry', 'allows', 'allen', 'pointless', 'essentially', 'remember', 'match', 'affection', 'sick', 'casting', 'sounds', 'delicate', 'foreign', 'games', 'voice', 'chance', 'zone', 'sides', 'striking', 'century', 'commercial', 'bond', 'news', 'brings', 'fall', 'desire', 'band', 'struggle', 'turned', 'ages', 'strength', 'brown', 'top', 'identity', 'sloppy', 'toward', 'exploration', 'realism', 'smile', 'sports', 'spectacle', 'delight', 'vehicle', 'wise', 'basic', 'liked', 'stock', 'finding', 'twist', 'emotion', 'list', 'christmas', 'balance', 'source', 'document', 'gangster', 'lines', 'badly', 'footage', 'insightful', 'subjects', 'involving', 'uneven', 'hardly', 'pleasant', 'gripping', 'frustrating', 'painfully', 'stage', 'shake', 'stay', 'pain', 'riveting', 'early', 'personality', 'grand', 'revealing', 'knowing', 'person', 'superficial', 'bitter', 'natural', 'unusual', 'adult', 'fear', 'office', 'diverting', 'lived', 'concerned', 'service', 'kissinger', 'answers', 'alive', 'perhaps', 'quick', 'child', 'superior', 'credit', 'hate', 'dreary', 'condition', 'space', 'provide', 'admirable', 'japanese', 'standup', 'originality', 'downright', 'mayhem', 'signs', 'length', 'directing', 'modest', 'theatre', 'development', 'damage', 'largely', 'ryan', 'grow', 'fashion', 'levels', 'territory', 'expected', 'knowledge', 'talents', 'inspiring', 'father', 'meaning', 'musical', 'lowbudget', 'meandering', 'humorous', 'vs', 'rush', 'hopeful', 'hair', 'violent', 'offbeat', 'bore', 'outrageous', 'police', 'group', 'monty', 'realistic', 'sitcom', 'cult', 'retread', 'soderbergh', 'produced', 'changing', 'vivid', 'provides', 'speaking', 'rhythms', 'flair', 'extraordinary', 'amazing', 'bears', 'poignant', 'holes', 'science', 'absolutely', 'detail', 'standards', 'hiphop', 'excuse', 'shame', 'odds', 'straightforward', 'prove', 'landscape', 'sadness', 'spooky', 'tear', 'hoffman', 'heartwarming', 'reallife', 'imagery', 'creating', 'moviemaking', 'husband', 'unnecessary', 'whatever', 'opening', 'color', 'limited', 'loses', 'mile', 'adam', 'farce', 'shock', 'ice', 'fight', 'mention', 'tiny', 'afterschool', 'necessary', 'frightening', 'drug', 'detailed', 'choose', 'madness', 'lets', 'biting', 'ahead', 'slice', 'unlikely', 'directorial', 'hits', 'missed', 'jack', 'corner', 'presents', 'analyze', 'grandeur', 'type', 'soldiers', 'dangerous', 'technology', 'features', 'overly', 'offering', 'inevitable', 'timely', 'despair', 'davis', 'combination', 'pathetic', 'horrifying', 'achievement', 'saying', 'drive', 'villain', 'dawson', 'insights', 'incredibly', 'eventually', 'deserve', 'equivalent', 'overthetop', 'strain', 'carries', 'lawrence', 'cliche', 'adolescent', 'exquisite', 'secrets', 'tortured', 'predecessor', 'exhilarating', 'trademark', 'designed', 'paced', 'serves', 'powers', 'count', 'ticket', 'terrifying', 'undeniably', 'miss', 'thoughtprovoking', 'went', 'succeeds', 'total', 'mixture', 'suffering', 'happiness', 'creation', 'sympathy', 'spell', 'collection', 'crude', 'refreshingly', 'cloying', 'daring', 'parts', 'feelgood', 'justify', 'charisma', 'beginning', 'achieves', 'connect', 'sour', 'capable', 'elegant', 'evocative', 'carried', 'frida', 'schneider', 'bleak', 'roger', 'remain', 'leaving', 'showtime', 'shadows', 'wellmeaning', 'handful', 'engaged', 'follow', 'matinee', 'admire', 'reign', 'string', 'willing', 'killed', 'fancy', 'respectable', 'scorsese', 'fisher', 'choices', 'inspiration', 'bag', 'table', 'heartbreaking', 'jones', 'extended', 'gag', 'looked', 'pair', 'blank', 'bottom', 'chaotic', 'greek', 'contrivances', 'movements', 'positive', 'van', '9', 'references', 'represents', 'leaden', 'chilly', 'authentic', 'spears', 'roll', 'brutally', 'delivered', 'rental', 'attractive', 'portrayal', 'lowkey', 'messages', 'harry', 'content', 'meaningful', 'result', 'mild', 'endeavor', 'dish', 'utter', 'rowdy', 'sand', 'j', 'dogs', 'warning', 'richard', 'fantasies', 'affecting', 'unfaithful', 'cost', 'belly', 'seven', 'happening', 'faithful', 'stop', 'grows', 'desperation', 'vital', 'broad', 'spirits', 'kiddie', 'innocence', 'endlessly', 'choppy', 'morning', 'em', 'category', 'spare', 'wannabe', 'guess', 'pinocchio', 'communal', 'sentiment', 'screaming', 'eccentric']\n",
      "\n",
      "Cluster 2\n",
      "['like', 'time', 'us', 'see', 'well', 'better', 'without', 'drama', 'every', 'long', 'hollywood', 'often', 'performance', 'less', 'seen', 'rather', 'dialogue', 'go', 'find', 'scenes', 'comes', 'years', 'year', 'kids', 'war', 'seem', 'star', 'around', 'know', 'experience', 'nearly', 'sometimes', 'short', 'horror', 'day', 'energy', 'engaging', 'smart', 'portrait', 'camera', 'french', 'charming', 'effort', 'become', 'everyone', 'enjoy', 'either', 'side', 'opera', 'shot', 'role', 'scene', 'animation', 'moral', 'honest', 'play', 'cliches', 'sad', 'certainly', 'shows', 'tell', 'possible', 'getting', 'soap', 'vision', 'psychological', 'convincing', 'gone', 'sequel', 'touch', 'dead', 'try', 'talented', 'previous', 'problem', 'date', 'urban', 'bring', 'process', 'odd', 'wild', 'insight', 'satire', 'career', 'tries', 'gay', 'couple', 'future', 'college', 'girls', 'sustain', 'behind', 'sophisticated', 'viewing', 'called', 'ultimate', 'words', 'clear', 'execution', 'evil', 'crowd', 'red', 'george', 'justice', 'intended', 'twisted', 'someone', 'wish', 'share', 'core', 'examination', 'inventive', 'rarely', 'manipulative', 'alone', 'society', 'ensemble', 'treatment', 'funnier', 'terms', 'standard', 'happen', 'soul', 'trouble', 'tedious', 'conflict', 'directors', 'sound', 'involved', 'captures', 'mix', 'sitting', 'editing', 'wildly', 'opportunity', 'somewhere', 'behavior', 'heartfelt', 'seriously', 'various', 'beat', 'playful', 'mark', 'virtually', 'attraction', 'stale', 'number', 'thrills', 'onto', 'sappy', 'complicated', 'williams', 'funniest', 'national', 'ordinary', 'frank', 'bmovie', 'offensive', 'experiences', 'seagal', 'joy', 'lesson', 'common', 'wedding', 'strangely', 'ludicrous', 'save', 'bits', 'glimpse', 'affair', 'triumph', 'giant', 'commentary', 'bright', 'created', 'fantastic', 'missing', 'generally', 'remarkably', 'visceral', 'record', 'dvd', 'indian', 'channel', 'avoid', 'needed', 'acts', '70s', 'spent', 'screenwriting', 'filmed', 'refreshing', 'hip', 'theaters', 'revenge', 'chase', 'tells', 'songs', 'determined', 'crafted', 'street', 'disaster', 'hot', 'nasty', 'abstract', 'witch', 'joke', 'wellmade', 'yarn', 'promising', 'pack', 'chris', 'makers', 'fat', 'including', 'happened', 'selfconscious', 'intellectual', 'payoff', 'event', 'spend', 'dealing', 'plotting', 'camp', 'chinese', 'finale', 'trick', 'tough', 'outside', 'cruel', 'increasingly', 'ripoff', 'friday', 'logic', 'irish', 'state', 'song', 'angst', 'cliched', 'rhythm', 'earth', 'indeed', 'assured', 'niche', 'cheesy', 'lousy', 'ambition', 'forgotten', 'buy', 'shooting', 'poem', 'satirical', 'simultaneously', 'nostalgia', 'realized', 'cross', 'curiosity', 'nightmare', 'yaya', 'played', 'somber', 'explore', 'minute', 'reasonably', 'trek', 'bother', 'appreciate', 'yes', 'realize', 'dysfunctional', 'players', 'marriage', 'variety', 'demands', 'washington', 'glass', 'brother', 'cell', 'food', 'phones', 'plodding', 'triangle', 'smarter', 'afraid', 'belt', 'area', 'term', 'delights']\n",
      "\n",
      "Cluster 3\n",
      "['movie', 'characters', 'interest', 'stuff', 'charm', 'running', 'york', 'remains', 'taking', 'night', 'animated', 'overcome', 'creates', 'dazzling', 'check', 'reach', 'understanding', 'stereotypes']\n",
      "\n",
      "Cluster 4\n",
      "['way', 'movies', 'work', 'bad', 'never', 'made', 'director', 'makes', 'could', 'films', 'first', 'nothing', 'things', 'human', 'end', 'american', 'entertaining', 'emotional', 'heart', 'hard', 'yet', 'come', 'worth', 'thing', 'give', 'women', 'history', 'comic', 'want', 'ultimately', 'actually', 'think', 'art', 'place', 'piece', 'away', 'feature', 'cinematic', 'theater', 'silly', 'men', 'video', 'half', 'level', 'social', 'filmmaking', 'recent', 'john', 'wit', 'power', 'hours', 'political', 'spirit', 'woman', 'turn', 'surprisingly', 'manages', 'actor', 'live', 'leave', 'mind', 'filmmaker', 'home', 'rare', 'message', 'inside', 'otherwise', 'put', 'impossible', 'jokes', 'violence', 'talent', 'cold', 'contrived', 'elements', 'act', 'fantasy', 'difficult', 'bland', 'whether', 'artist', 'mood', 'entirely', 'help', 'events', 'deep', 'supposed', 'plenty', 'certain', 'house', 'adults', 'view', 'tired', 'unsettling', 'dog', 'use', 'perfectly', 'pretentious', 'somewhat', 'america', 'expect', 'painful', 'epic', 'welcome', 'fire', 'depth', 'david', 'saw', 'overall', 'potential', 'situation', 'thoroughly', 'word', 'unexpected', 'grace', 'sexual', 'goofy', 'wants', 'knows', 'tension', 'pop', 'mean', 'pure', 'oscar', 'ago', 'ugly', 'memory', 'poor', 'typical', 'leaves', 'warmth', 'merely', 'eye', 'among', 'friendship', 'questions', 'form', 'mildly', 'unfunny', 'win', 'masterpiece', 'fit', 'loss', 'watchable', 'heavy', 'figure', 'waste', 'trip', '2002', 'intense', 'murder', 'believable', 'central', 'killer', 'effective', 'dream', 'attempts', 'waiting', 'means', 'derivative', 'ms', 'peter', 'score', 'popcorn', 'sets', 'ability', 'substance', 'amount', 'skill', 'tribute', 'protagonist', 'cinematography', 'average', 'doubt', '10', 'mainstream', 'said', 'intimate', 'onscreen', 'delivery', '2', 'minor', 'sentimentality', 'studio', 'present', 'finds', 'large', 'generation', '20', 'atmosphere', 'escape', 'sight', 'intentions', 'murphy', 'courage', 'grief', 'quietly', 'visuals', 'budget', 'fan', 'marks', 'price', 'thanks', 'fears', 'deeper', 'wars', 'talking', 'excitement', 'families', 'annoying', 'vampire', 'please', 'community', 'efforts', 'lame', 'possibly', 'oddly', 'season', 'nicely', 'worked', 'x', 'respect', 'clarity', 'artificial', 'sheer', 'saturday', 'snow', 'revolution', 'moviegoers', 'devoid', 'holds', 'lazy', 'bunch', 'aspects', 'italian', 'screenwriter', 'presence', 'graphic', 'longer', 'crimes', 'die', 'relatively', 'filled', 'soon', 'wry', 'irritating', 'quickly', 'starring', 'park', 'pull', 'degree', 'ground', 'structure', 'raw', 'numbers', 'deliver', 'false', 'teenagers', 'absorbing', 'lady', 'imaginative', 'values', 'superb', 'faster', 'haunting', 'lee', 'devastating', 'apparent', 'americans', 'supporting', 'wait', 'shoot', 'ridiculous', 'surface', 'results', 'rendered', 'sum', 'digital', 'open', 'brought', 'reading', 'appear', 'sign', 'fake', 'shocking', 'maudlin', 'inept', 'computer', 'credible', 'observations', 'manhattan', 'pulls', 'forgive', 'hands', 'happens', 'iranian', 'mesmerizing', 'tiresome', 'wasted', 'pass', 'memories', 'notion', 'reno', 'britney', 'started', 'ghost', 'burns', 'beneath', 'center', 'actresses', 'con', 'somehow', 'fair', 'english', 'impression', 'laughter', 'metaphor', 'kong', 'within', 'dance', 'unpleasant', 'banal', 'gifted', 'precious', 'dirty', 'fish', 'crisp', 'woo', 'thick', 'excess', 'tradition', 'stuck', 'inner', 'victims', 'overwrought', 'accessible', 'biopic', 'walk', 'larger', 'moves', 'text', 'awkward', 'murky', 'frustration', 'essence', 'nowhere', 'resist', 'candy', 'pick', 'urgency', '15', 'listless', 'blend', 'depiction', 'week', 'relies', 'developed', 'refusal', 'roots', 'desperate', 'moviegoing', 'broomfield', 'hong', 'disappointing']\n"
     ]
    }
   ],
   "source": [
    "\n",
    "start = time.time() # Start time\n",
    "idx = kmeans.predict( f_matrix_train )\n",
    "\n",
    "# Get the end time and print how long the process took\n",
    "end = time.time()\n",
    "elapsed = end - start\n",
    "print (\"Time taken for K Means clustering: \", elapsed, \"seconds.\")\n",
    "\n",
    "# Create a Word / Index dictionary, mapping each vocabulary word to\n",
    "# a cluster number                                                                                            \n",
    "word_centroid_map = dict(zip( model.wv.index2word, idx ))\n",
    "\n",
    "# For the first 5 clusters\n",
    "for cluster in range(0,num_clusters):\n",
    "    \n",
    "    print (\"\\nCluster %d\" % cluster)\n",
    "    words = []\n",
    "    for key, value in word_centroid_map.items():\n",
    "        if( value == cluster ):\n",
    "            words.append(key)\n",
    "    print (words)\n"
   ]
  },
  {
   "cell_type": "markdown",
   "metadata": {},
   "source": [
    "# Supervised Learning approach"
   ]
  },
  {
   "cell_type": "code",
   "execution_count": 82,
   "metadata": {},
   "outputs": [
    {
     "name": "stdout",
     "output_type": "stream",
     "text": [
      "_________________________________________________________________\n",
      "Layer (type)                 Output Shape              Param #   \n",
      "=================================================================\n",
      "dense_7 (Dense)              (None, 600)               180600    \n",
      "_________________________________________________________________\n",
      "dense_8 (Dense)              (None, 5)                 3005      \n",
      "=================================================================\n",
      "Total params: 183,605\n",
      "Trainable params: 183,605\n",
      "Non-trainable params: 0\n",
      "_________________________________________________________________\n"
     ]
    }
   ],
   "source": [
    "from keras.models import Sequential \n",
    "from keras.layers import Dense, Activation \n",
    "from keras.optimizers import SGD\n",
    "\n",
    "output_dim  = nb_classes = num_clusters = 5\n",
    "cmodel = Sequential() \n",
    "\n",
    "cmodel.add(Dense(2*num_features, input_dim=num_features, activation='relu'))\n",
    "cmodel.add(Dense(output_dim, activation='softmax')) \n",
    "cmodel.summary()"
   ]
  },
  {
   "cell_type": "code",
   "execution_count": 90,
   "metadata": {},
   "outputs": [],
   "source": [
    "from keras.utils import np_utils \n",
    "Y_oh_train = np_utils.to_categorical(y_train, 5)\n",
    "Y_oh_valid = np_utils.to_categorical(y_valid, 5)"
   ]
  },
  {
   "cell_type": "code",
   "execution_count": 88,
   "metadata": {},
   "outputs": [
    {
     "name": "stdout",
     "output_type": "stream",
     "text": [
      "Epoch 1/9\n",
      " - 16s - loss: 0.4097 - acc: 0.8212\n",
      "Epoch 2/9\n",
      " - 15s - loss: 0.3977 - acc: 0.8255\n",
      "Epoch 3/9\n",
      " - 14s - loss: 0.3974 - acc: 0.8261\n",
      "Epoch 4/9\n",
      " - 16s - loss: 0.3983 - acc: 0.8272\n",
      "Epoch 5/9\n",
      " - 16s - loss: 0.3994 - acc: 0.8278\n",
      "Epoch 6/9\n",
      " - 15s - loss: 0.4010 - acc: 0.8282\n",
      "Epoch 7/9\n",
      " - 15s - loss: 0.4015 - acc: 0.8289\n",
      "Epoch 8/9\n",
      " - 17s - loss: 0.4037 - acc: 0.8291\n",
      "Epoch 9/9\n",
      " - 17s - loss: 0.4050 - acc: 0.8295\n"
     ]
    },
    {
     "data": {
      "text/plain": [
       "<keras.callbacks.History at 0x7efc80b94160>"
      ]
     },
     "execution_count": 88,
     "metadata": {},
     "output_type": "execute_result"
    }
   ],
   "source": [
    "cmodel.compile(optimizer='rmsprop',\n",
    "              loss='binary_crossentropy',\n",
    "              metrics=['accuracy'])\n",
    "\n",
    "cmodel.fit(f_train, Y_oh_train, epochs=9, batch_size=32, verbose=2)"
   ]
  },
  {
   "cell_type": "code",
   "execution_count": 89,
   "metadata": {},
   "outputs": [],
   "source": [
    "def get_acuracy(model, Xc, Y):\n",
    "    Y_hat = model.predict_classes(Xc)\n",
    "    accuracy = sum(Y_hat == Y)/(float(len(Y)))\n",
    "    print('Accuracy: {}'.format(accuracy) )"
   ]
  },
  {
   "cell_type": "code",
   "execution_count": 94,
   "metadata": {},
   "outputs": [
    {
     "name": "stdout",
     "output_type": "stream",
     "text": [
      "Accuracy: 0.5255030116621812\n"
     ]
    }
   ],
   "source": [
    "get_acuracy(cmodel, f_valid, y_valid)"
   ]
  },
  {
   "cell_type": "code",
   "execution_count": 99,
   "metadata": {},
   "outputs": [
    {
     "data": {
      "text/html": [
       "<div>\n",
       "<style scoped>\n",
       "    .dataframe tbody tr th:only-of-type {\n",
       "        vertical-align: middle;\n",
       "    }\n",
       "\n",
       "    .dataframe tbody tr th {\n",
       "        vertical-align: top;\n",
       "    }\n",
       "\n",
       "    .dataframe thead th {\n",
       "        text-align: right;\n",
       "    }\n",
       "</style>\n",
       "<table border=\"1\" class=\"dataframe\">\n",
       "  <thead>\n",
       "    <tr style=\"text-align: right;\">\n",
       "      <th>col_0</th>\n",
       "      <th>0</th>\n",
       "      <th>1</th>\n",
       "      <th>2</th>\n",
       "      <th>3</th>\n",
       "      <th>4</th>\n",
       "    </tr>\n",
       "    <tr>\n",
       "      <th>row_0</th>\n",
       "      <th></th>\n",
       "      <th></th>\n",
       "      <th></th>\n",
       "      <th></th>\n",
       "      <th></th>\n",
       "    </tr>\n",
       "  </thead>\n",
       "  <tbody>\n",
       "    <tr>\n",
       "      <th>0</th>\n",
       "      <td>387</td>\n",
       "      <td>502</td>\n",
       "      <td>282</td>\n",
       "      <td>111</td>\n",
       "      <td>24</td>\n",
       "    </tr>\n",
       "    <tr>\n",
       "      <th>1</th>\n",
       "      <td>360</td>\n",
       "      <td>1192</td>\n",
       "      <td>795</td>\n",
       "      <td>301</td>\n",
       "      <td>58</td>\n",
       "    </tr>\n",
       "    <tr>\n",
       "      <th>2</th>\n",
       "      <td>4397</td>\n",
       "      <td>18057</td>\n",
       "      <td>58004</td>\n",
       "      <td>18722</td>\n",
       "      <td>3989</td>\n",
       "    </tr>\n",
       "    <tr>\n",
       "      <th>3</th>\n",
       "      <td>452</td>\n",
       "      <td>1868</td>\n",
       "      <td>4590</td>\n",
       "      <td>6527</td>\n",
       "      <td>2564</td>\n",
       "    </tr>\n",
       "    <tr>\n",
       "      <th>4</th>\n",
       "      <td>60</td>\n",
       "      <td>127</td>\n",
       "      <td>272</td>\n",
       "      <td>559</td>\n",
       "      <td>648</td>\n",
       "    </tr>\n",
       "  </tbody>\n",
       "</table>\n",
       "</div>"
      ],
      "text/plain": [
       "col_0     0      1      2      3     4\n",
       "row_0                                 \n",
       "0       387    502    282    111    24\n",
       "1       360   1192    795    301    58\n",
       "2      4397  18057  58004  18722  3989\n",
       "3       452   1868   4590   6527  2564\n",
       "4        60    127    272    559   648"
      ]
     },
     "execution_count": 99,
     "metadata": {},
     "output_type": "execute_result"
    }
   ],
   "source": [
    "Y_hat = cmodel.predict_classes(f_train)\n",
    "\n",
    "pd.crosstab(Y_hat, y_train)"
   ]
  }
 ],
 "metadata": {
  "kernelspec": {
   "display_name": "Python 3",
   "language": "python",
   "name": "python3"
  },
  "language_info": {
   "codemirror_mode": {
    "name": "ipython",
    "version": 3
   },
   "file_extension": ".py",
   "mimetype": "text/x-python",
   "name": "python",
   "nbconvert_exporter": "python",
   "pygments_lexer": "ipython3",
   "version": "3.6.4"
  }
 },
 "nbformat": 4,
 "nbformat_minor": 2
}
